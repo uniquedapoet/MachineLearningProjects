{
  "nbformat": 4,
  "nbformat_minor": 0,
  "metadata": {
    "colab": {
      "provenance": [],
      "gpuType": "T4"
    },
    "kernelspec": {
      "name": "python3",
      "display_name": "Python 3"
    },
    "language_info": {
      "name": "python"
    },
    "accelerator": "GPU"
  },
  "cells": [
    {
      "cell_type": "markdown",
      "source": [
        "## Linear Regression Model"
      ],
      "metadata": {
        "id": "iZWlTBoq2PIR"
      }
    },
    {
      "cell_type": "code",
      "source": [
        "import torch\n",
        "from torch import nn\n",
        "import matplotlib.pyplot as plt"
      ],
      "metadata": {
        "id": "irjLyT7C2TMV"
      },
      "execution_count": 1,
      "outputs": []
    },
    {
      "cell_type": "code",
      "source": [
        "# Setup device agnostic code\n",
        "device = 'cuda' if torch.cuda.is_available() else 'cpu'\n",
        "print(f\"Using device {device} \")"
      ],
      "metadata": {
        "colab": {
          "base_uri": "https://localhost:8080/"
        },
        "id": "a8RAPWiS66FZ",
        "outputId": "fc95e4ed-1443-4b0b-e20f-2b106ca3a23b"
      },
      "execution_count": 2,
      "outputs": [
        {
          "output_type": "stream",
          "name": "stdout",
          "text": [
            "Using device cuda \n"
          ]
        }
      ]
    },
    {
      "cell_type": "code",
      "source": [
        "# Create data using the linear regression formula Y = wieght*X + bias\n",
        "wieght = .7\n",
        "bias = .3\n",
        "\n",
        "#Create range values\n",
        "start = 0\n",
        "end = 1\n",
        "step = .02\n",
        "X = torch.arange(start,end,step).unsqueeze(dim=1)\n",
        "y = wieght * X + bias\n",
        "X[:10],y[:10]"
      ],
      "metadata": {
        "colab": {
          "base_uri": "https://localhost:8080/"
        },
        "id": "F8ndzTKY7Gc-",
        "outputId": "f1f24f5c-15a4-44d7-a442-ded429bc70db"
      },
      "execution_count": 3,
      "outputs": [
        {
          "output_type": "execute_result",
          "data": {
            "text/plain": [
              "(tensor([[0.0000],\n",
              "         [0.0200],\n",
              "         [0.0400],\n",
              "         [0.0600],\n",
              "         [0.0800],\n",
              "         [0.1000],\n",
              "         [0.1200],\n",
              "         [0.1400],\n",
              "         [0.1600],\n",
              "         [0.1800]]),\n",
              " tensor([[0.3000],\n",
              "         [0.3140],\n",
              "         [0.3280],\n",
              "         [0.3420],\n",
              "         [0.3560],\n",
              "         [0.3700],\n",
              "         [0.3840],\n",
              "         [0.3980],\n",
              "         [0.4120],\n",
              "         [0.4260]]))"
            ]
          },
          "metadata": {},
          "execution_count": 3
        }
      ]
    },
    {
      "cell_type": "code",
      "source": [
        "# Split data\n",
        "train_split = int(.8*len(X))\n",
        "X_train, y_train = X[:train_split],y[:train_split]\n",
        "X_test, y_test = X[train_split:],y[train_split:]\n",
        "len(X_train), len(y_train), len(X_test), len(y_test)"
      ],
      "metadata": {
        "colab": {
          "base_uri": "https://localhost:8080/"
        },
        "id": "gPbbPjXj7IV1",
        "outputId": "e86b408b-82e9-44c5-d335-49cbc0aeff9a"
      },
      "execution_count": 4,
      "outputs": [
        {
          "output_type": "execute_result",
          "data": {
            "text/plain": [
              "(40, 40, 10, 10)"
            ]
          },
          "metadata": {},
          "execution_count": 4
        }
      ]
    },
    {
      "cell_type": "code",
      "source": [
        "# Create a linear model by subclassing nn.Module\n",
        "class LinearRegressionModelV2(nn.Module):\n",
        "  def __init__(self):\n",
        "    super().__init__()\n",
        "    # Use nn.Linear() for creating model parameters, creates a Linear set of data with one in number to 1 out number\n",
        "    self.linear_layer = nn.Linear(in_features=1,\n",
        "                                  out_features=1)\n",
        "\n",
        "    #x: torch.Tensor)-> torch.Tensor saying x should be a Tensor and it should output a tensor\n",
        "  def forward(self, x: torch.Tensor)-> torch.Tensor:\n",
        "    return self.linear_layer(x)\n",
        "\n",
        "torch.manual_seed(42)\n",
        "model_1 = LinearRegressionModelV2()\n",
        "model_1, model_1.state_dict()"
      ],
      "metadata": {
        "colab": {
          "base_uri": "https://localhost:8080/"
        },
        "id": "yuz_3qut7K29",
        "outputId": "e35890d8-e65d-4ce8-a46a-dae0b3aa1e07"
      },
      "execution_count": 5,
      "outputs": [
        {
          "output_type": "execute_result",
          "data": {
            "text/plain": [
              "(LinearRegressionModelV2(\n",
              "   (linear_layer): Linear(in_features=1, out_features=1, bias=True)\n",
              " ),\n",
              " OrderedDict([('linear_layer.weight', tensor([[0.7645]])),\n",
              "              ('linear_layer.bias', tensor([0.8300]))]))"
            ]
          },
          "metadata": {},
          "execution_count": 5
        }
      ]
    },
    {
      "cell_type": "code",
      "source": [
        "# Set model to use target device\n",
        "model_1.to(device)\n",
        "next(model_1.parameters()).device"
      ],
      "metadata": {
        "colab": {
          "base_uri": "https://localhost:8080/"
        },
        "id": "J96m31CA7NVc",
        "outputId": "4013b90f-ee1e-4e72-b71f-74275fe9e2e9"
      },
      "execution_count": 6,
      "outputs": [
        {
          "output_type": "execute_result",
          "data": {
            "text/plain": [
              "device(type='cuda', index=0)"
            ]
          },
          "metadata": {},
          "execution_count": 6
        }
      ]
    },
    {
      "cell_type": "code",
      "source": [
        "#Setup loss function\n",
        "loss_fn = nn.L1Loss() #same as MAE\n",
        "\n",
        "#Setup our optimizer\n",
        "optimizer = torch.optim.SGD(params = model_1.parameters(),\n",
        "                            lr=.01)"
      ],
      "metadata": {
        "id": "eI8whKMD7Qbw"
      },
      "execution_count": 7,
      "outputs": []
    },
    {
      "cell_type": "code",
      "source": [
        "# Training loop\n",
        "torch.manual_seed(42)\n",
        "\n",
        "epochs = 200\n",
        "\n",
        "# Putting data on target device\n",
        "X_test,X_train,y_test,y_train = X_test.to(device),X_train.to(device),y_test.to(device),y_train.to(device)\n",
        "\n",
        "\n",
        "for epoch in range(epochs):\n",
        "  model_1.train()\n",
        "\n",
        "  #Forward Pass\n",
        "  y_pred = model_1(X_train)\n",
        "\n",
        "  #Calculate loss\n",
        "  loss = loss_fn(y_pred, y_train)\n",
        "\n",
        "  #Reset Optimizer to 0\n",
        "  optimizer.zero_grad()\n",
        "\n",
        "  # Perform backpropagation\n",
        "  loss.backward()\n",
        "\n",
        "  # Optimizer step\n",
        "  optimizer.step()\n",
        "\n",
        "  ### Testing\n",
        "  model_1.eval()\n",
        "  with torch.inference_mode():\n",
        "    test_pred = model_1(X_test)\n",
        "\n",
        "    test_loss = loss_fn(test_pred, y_test)\n",
        "\n",
        "  if epoch % 10 == 0:\n",
        "    print(f\"Epoch: {epoch} | Loss: {loss} | Test loss; {test_loss}\")"
      ],
      "metadata": {
        "colab": {
          "base_uri": "https://localhost:8080/"
        },
        "id": "msZiggwV7Wmu",
        "outputId": "6d40a615-35f5-4e5f-99bd-4df25302935a"
      },
      "execution_count": 8,
      "outputs": [
        {
          "output_type": "stream",
          "name": "stdout",
          "text": [
            "Epoch: 0 | Loss: 0.5551779866218567 | Test loss; 0.5739762187004089\n",
            "Epoch: 10 | Loss: 0.439968079328537 | Test loss; 0.4392664134502411\n",
            "Epoch: 20 | Loss: 0.3247582018375397 | Test loss; 0.30455657839775085\n",
            "Epoch: 30 | Loss: 0.20954833924770355 | Test loss; 0.16984669864177704\n",
            "Epoch: 40 | Loss: 0.09433845430612564 | Test loss; 0.03513690456748009\n",
            "Epoch: 50 | Loss: 0.023886388167738914 | Test loss; 0.04784907028079033\n",
            "Epoch: 60 | Loss: 0.019956795498728752 | Test loss; 0.045803118497133255\n",
            "Epoch: 70 | Loss: 0.016517987474799156 | Test loss; 0.037530567497015\n",
            "Epoch: 80 | Loss: 0.013089174404740334 | Test loss; 0.02994490973651409\n",
            "Epoch: 90 | Loss: 0.009653178043663502 | Test loss; 0.02167237363755703\n",
            "Epoch: 100 | Loss: 0.006215683650225401 | Test loss; 0.014086711220443249\n",
            "Epoch: 110 | Loss: 0.00278724217787385 | Test loss; 0.005814164876937866\n",
            "Epoch: 120 | Loss: 0.0012645035749301314 | Test loss; 0.013801801018416882\n",
            "Epoch: 130 | Loss: 0.0012645035749301314 | Test loss; 0.013801801018416882\n",
            "Epoch: 140 | Loss: 0.0012645035749301314 | Test loss; 0.013801801018416882\n",
            "Epoch: 150 | Loss: 0.0012645035749301314 | Test loss; 0.013801801018416882\n",
            "Epoch: 160 | Loss: 0.0012645035749301314 | Test loss; 0.013801801018416882\n",
            "Epoch: 170 | Loss: 0.0012645035749301314 | Test loss; 0.013801801018416882\n",
            "Epoch: 180 | Loss: 0.0012645035749301314 | Test loss; 0.013801801018416882\n",
            "Epoch: 190 | Loss: 0.0012645035749301314 | Test loss; 0.013801801018416882\n"
          ]
        }
      ]
    },
    {
      "cell_type": "code",
      "source": [
        "with torch.inference_mode():\n",
        "  y_preds = model_1(X_test)"
      ],
      "metadata": {
        "id": "_CliLBht7auB"
      },
      "execution_count": 9,
      "outputs": []
    },
    {
      "cell_type": "code",
      "source": [
        "def plot_predictions(train_data,\n",
        "                     train_labels,\n",
        "                     test_data,\n",
        "                     test_labels,\n",
        "                     predictions=None):\n",
        "  \"\"\"\n",
        "  Plots training data, test data and compares predictions\n",
        "  \"\"\"\n",
        "  plt.figure(figsize=(10,7))\n",
        "\n",
        "  #Plot training data in blue\n",
        "  plt.scatter(train_data, train_labels, c='b', s=4, label=\"Training Data\" )\n",
        "\n",
        "  #Plot test data in green\n",
        "  plt.scatter(test_data, test_labels, c='g', s=4, label=\"Testing Data\" )\n",
        "\n",
        "  #Are there predictions?\n",
        "  if predictions is not None:\n",
        "    #Plot the predictions if they exist\n",
        "    plt.scatter(test_data, predictions, c ='r', s=4, label='Predictions')\n",
        "\n",
        "  #Show the legend\n",
        "  plt.legend(prop={'size':14})"
      ],
      "metadata": {
        "id": "Zr8ypA_F7uH8"
      },
      "execution_count": 10,
      "outputs": []
    },
    {
      "cell_type": "code",
      "source": [
        "plot_predictions(X_train.cpu(), y_train.cpu(), X_test.cpu(), y_test.cpu(), predictions= y_preds.cpu())"
      ],
      "metadata": {
        "colab": {
          "base_uri": "https://localhost:8080/",
          "height": 599
        },
        "id": "vLG2iF2G7dTF",
        "outputId": "ebecda2f-6706-4418-fb15-07b9dc170fe4"
      },
      "execution_count": 12,
      "outputs": [
        {
          "output_type": "display_data",
          "data": {
            "text/plain": [
              "<Figure size 1000x700 with 1 Axes>"
            ],
            "image/png": "[encoded data removed]"
          },
          "metadata": {}
        }
      ]
    },
    {
      "cell_type": "code",
      "source": [],
      "metadata": {
        "id": "lDd3e99H7y05"
      },
      "execution_count": null,
      "outputs": []
    }
  ]
}