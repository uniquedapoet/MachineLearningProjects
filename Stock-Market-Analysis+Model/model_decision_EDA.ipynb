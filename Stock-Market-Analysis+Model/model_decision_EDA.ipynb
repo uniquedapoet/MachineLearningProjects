{
 "cells": [
  {
   "cell_type": "code",
   "execution_count": 57,
   "metadata": {},
   "outputs": [],
   "source": [
    "import pandas as pd\n",
    "import joblib   \n",
    "import numpy as np\n",
    "from sklearn.model_selection import train_test_split\n",
    "from SimulateDay import scale_data, predict_action, get_stock_data, add_columns, stock_market_simulation\n",
    "import xgboost as xgb\n",
    "import joblib\n",
    "\n",
    "\n",
    "specific_model_decisions = pd.read_csv('data/specific_model_decisions.csv').sort_values(by=\"Day\").sort_values(by='Stock Name')\n",
    "general_model_decisions = pd.read_csv('data/general_model_decisions.csv').sort_values(by=\"Day\").sort_values(by='Stock Name')\n",
    "# general_model_decisions.to_csv('data/general_model_decisions.csv', index=False)\n",
    "# specific_model_decisions.to_csv('data/specific_model_decisions.csv', index=False)\n",
    "\n",
    "\n"
   ]
  },
  {
   "cell_type": "code",
   "execution_count": 56,
   "metadata": {},
   "outputs": [
    {
     "data": {
      "text/html": [
       "<div>\n",
       "<style scoped>\n",
       "    .dataframe tbody tr th:only-of-type {\n",
       "        vertical-align: middle;\n",
       "    }\n",
       "\n",
       "    .dataframe tbody tr th {\n",
       "        vertical-align: top;\n",
       "    }\n",
       "\n",
       "    .dataframe thead th {\n",
       "        text-align: right;\n",
       "    }\n",
       "</style>\n",
       "<table border=\"1\" class=\"dataframe\">\n",
       "  <thead>\n",
       "    <tr style=\"text-align: right;\">\n",
       "      <th></th>\n",
       "      <th>Stock Name</th>\n",
       "      <th>Day</th>\n",
       "      <th>Action</th>\n",
       "      <th>Stock Price</th>\n",
       "      <th>Cash</th>\n",
       "      <th>Shares Held</th>\n",
       "      <th>Portfolio Value</th>\n",
       "      <th>Date</th>\n",
       "    </tr>\n",
       "  </thead>\n",
       "  <tbody>\n",
       "  </tbody>\n",
       "</table>\n",
       "</div>"
      ],
      "text/plain": [
       "Empty DataFrame\n",
       "Columns: [Stock Name, Day, Action, Stock Price, Cash, Shares Held, Portfolio Value, Date]\n",
       "Index: []"
      ]
     },
     "execution_count": 56,
     "metadata": {},
     "output_type": "execute_result"
    }
   ],
   "source": [
    "general_model_decisions[general_model_decisions['Portfolio Value'] > 10000]"
   ]
  },
  {
   "cell_type": "code",
   "execution_count": 51,
   "metadata": {},
   "outputs": [
    {
     "data": {
      "text/html": [
       "<div>\n",
       "<style scoped>\n",
       "    .dataframe tbody tr th:only-of-type {\n",
       "        vertical-align: middle;\n",
       "    }\n",
       "\n",
       "    .dataframe tbody tr th {\n",
       "        vertical-align: top;\n",
       "    }\n",
       "\n",
       "    .dataframe thead th {\n",
       "        text-align: right;\n",
       "    }\n",
       "</style>\n",
       "<table border=\"1\" class=\"dataframe\">\n",
       "  <thead>\n",
       "    <tr style=\"text-align: right;\">\n",
       "      <th></th>\n",
       "      <th>Stock Name</th>\n",
       "      <th>Day</th>\n",
       "      <th>Action</th>\n",
       "      <th>Stock Price</th>\n",
       "      <th>Cash</th>\n",
       "      <th>Shares Held</th>\n",
       "      <th>Portfolio Value</th>\n",
       "      <th>Date</th>\n",
       "    </tr>\n",
       "  </thead>\n",
       "  <tbody>\n",
       "    <tr>\n",
       "      <th>1131</th>\n",
       "      <td>TDG</td>\n",
       "      <td>2.0</td>\n",
       "      <td>Buy</td>\n",
       "      <td>1400.359985</td>\n",
       "      <td>5854.425049</td>\n",
       "      <td>3.0</td>\n",
       "      <td>10055.505005</td>\n",
       "      <td>2024-10-11</td>\n",
       "    </tr>\n",
       "  </tbody>\n",
       "</table>\n",
       "</div>"
      ],
      "text/plain": [
       "     Stock Name  Day Action  Stock Price         Cash  Shares Held  \\\n",
       "1131        TDG  2.0    Buy  1400.359985  5854.425049          3.0   \n",
       "\n",
       "      Portfolio Value        Date  \n",
       "1131     10055.505005  2024-10-11  "
      ]
     },
     "execution_count": 51,
     "metadata": {},
     "output_type": "execute_result"
    }
   ],
   "source": [
    "specific_model_decisions[(specific_model_decisions['Portfolio Value'] == 10055.505004882812)]"
   ]
  },
  {
   "cell_type": "code",
   "execution_count": 54,
   "metadata": {},
   "outputs": [
    {
     "data": {
      "text/html": [
       "<div>\n",
       "<style scoped>\n",
       "    .dataframe tbody tr th:only-of-type {\n",
       "        vertical-align: middle;\n",
       "    }\n",
       "\n",
       "    .dataframe tbody tr th {\n",
       "        vertical-align: top;\n",
       "    }\n",
       "\n",
       "    .dataframe thead th {\n",
       "        text-align: right;\n",
       "    }\n",
       "</style>\n",
       "<table border=\"1\" class=\"dataframe\">\n",
       "  <thead>\n",
       "    <tr style=\"text-align: right;\">\n",
       "      <th></th>\n",
       "      <th>Stock Name</th>\n",
       "      <th>Day</th>\n",
       "      <th>Action</th>\n",
       "      <th>Stock Price</th>\n",
       "      <th>Cash</th>\n",
       "      <th>Shares Held</th>\n",
       "      <th>Portfolio Value</th>\n",
       "      <th>Date</th>\n",
       "    </tr>\n",
       "  </thead>\n",
       "  <tbody>\n",
       "    <tr>\n",
       "      <th>500</th>\n",
       "      <td>ZBH</td>\n",
       "      <td>0.0</td>\n",
       "      <td>Buy</td>\n",
       "      <td>103.000000</td>\n",
       "      <td>9897.000000</td>\n",
       "      <td>1.0</td>\n",
       "      <td>10000.000000</td>\n",
       "      <td>2024-09-10</td>\n",
       "    </tr>\n",
       "    <tr>\n",
       "      <th>1356</th>\n",
       "      <td>ZBH</td>\n",
       "      <td>2.0</td>\n",
       "      <td>Buy</td>\n",
       "      <td>103.894997</td>\n",
       "      <td>9690.285004</td>\n",
       "      <td>3.0</td>\n",
       "      <td>10001.969994</td>\n",
       "      <td>2024-10-11</td>\n",
       "    </tr>\n",
       "    <tr>\n",
       "      <th>854</th>\n",
       "      <td>ZBH</td>\n",
       "      <td>1.0</td>\n",
       "      <td>Buy</td>\n",
       "      <td>102.820000</td>\n",
       "      <td>9794.180000</td>\n",
       "      <td>2.0</td>\n",
       "      <td>9999.820000</td>\n",
       "      <td>2024-10-10</td>\n",
       "    </tr>\n",
       "  </tbody>\n",
       "</table>\n",
       "</div>"
      ],
      "text/plain": [
       "     Stock Name  Day Action  Stock Price         Cash  Shares Held  \\\n",
       "500         ZBH  0.0    Buy   103.000000  9897.000000          1.0   \n",
       "1356        ZBH  2.0    Buy   103.894997  9690.285004          3.0   \n",
       "854         ZBH  1.0    Buy   102.820000  9794.180000          2.0   \n",
       "\n",
       "      Portfolio Value        Date  \n",
       "500      10000.000000  2024-09-10  \n",
       "1356     10001.969994  2024-10-11  \n",
       "854       9999.820000  2024-10-10  "
      ]
     },
     "execution_count": 54,
     "metadata": {},
     "output_type": "execute_result"
    }
   ],
   "source": [
    "specific_model_decisions[specific_model_decisions['Stock Name'] == 'ZBH']"
   ]
  },
  {
   "cell_type": "code",
   "execution_count": null,
   "metadata": {},
   "outputs": [],
   "source": []
  }
 ],
 "metadata": {
  "kernelspec": {
   "display_name": "base",
   "language": "python",
   "name": "python3"
  },
  "language_info": {
   "codemirror_mode": {
    "name": "ipython",
    "version": 3
   },
   "file_extension": ".py",
   "mimetype": "text/x-python",
   "name": "python",
   "nbconvert_exporter": "python",
   "pygments_lexer": "ipython3",
   "version": "3.11.5"
  }
 },
 "nbformat": 4,
 "nbformat_minor": 2
}
