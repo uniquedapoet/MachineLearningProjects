{
 "cells": [
  {
   "cell_type": "code",
   "execution_count": 9,
   "metadata": {},
   "outputs": [
    {
     "name": "stdout",
     "output_type": "stream",
     "text": [
      "Loading data for AAPL ...\n",
      "Adding columns for AAPL...\n"
     ]
    },
    {
     "name": "stderr",
     "output_type": "stream",
     "text": [
      "/Users/eduardobenjamin/Desktop/Repos/MachineLearningProjects/Stock-Market-Analysis+Model/SimulateDay.py:225: FutureWarning: The behavior of DataFrame.idxmax with all-NA values, or any-NA and skipna=False, is deprecated. In a future version this will raise ValueError\n",
      "  '10_Day_Return', '20_Day_Return', '50_Day_Return', '200_Day_Return']].idxmax(axis=1)\n",
      "/Users/eduardobenjamin/Desktop/Repos/MachineLearningProjects/Stock-Market-Analysis+Model/SimulateDay.py:225: FutureWarning: The behavior of DataFrame.idxmax with all-NA values, or any-NA and skipna=False, is deprecated. In a future version this will raise ValueError\n",
      "  '10_Day_Return', '20_Day_Return', '50_Day_Return', '200_Day_Return']].idxmax(axis=1)\n"
     ]
    },
    {
     "name": "stdout",
     "output_type": "stream",
     "text": [
      "Training model for AAPL...\n",
      "Saving model for AAPL...\n"
     ]
    }
   ],
   "source": [
    "from SimulateDay import stock_market_simulation, scale_data,train_Optimal_Action\n",
    "import xgboost as xgb\n",
    "import lightgbm as lgb\n",
    "\n",
    "import numpy as np \n",
    "import pandas as pd\n",
    "import joblib\n",
    "\n",
    "def importModels(symbol):\n",
    "    specificModel = joblib.load(f\"models/{symbol}_model.pkl\")\n",
    "    noCovidModel = train_Optimal_Action(symbol=symbol, action_column='Action')\n",
    "    generalModel = xgb.Booster()    \n",
    "    generalModel.load_model('models/all_stocks_incremental_model.pkl') \n",
    "    return specificModel, generalModel, noCovidModel\n",
    "\n",
    "stock_df = pd.read_csv('data/sp500_stocks.csv')\n",
    "specificModel, generalModel, noCovidModel = importModels('AAPL')"
   ]
  },
  {
   "cell_type": "code",
   "execution_count": null,
   "metadata": {},
   "outputs": [],
   "source": []
  }
 ],
 "metadata": {
  "kernelspec": {
   "display_name": "base",
   "language": "python",
   "name": "python3"
  },
  "language_info": {
   "codemirror_mode": {
    "name": "ipython",
    "version": 3
   },
   "file_extension": ".py",
   "mimetype": "text/x-python",
   "name": "python",
   "nbconvert_exporter": "python",
   "pygments_lexer": "ipython3",
   "version": "3.11.5"
  }
 },
 "nbformat": 4,
 "nbformat_minor": 2
}
