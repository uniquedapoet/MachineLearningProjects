{
 "cells": [
  {
   "cell_type": "markdown",
   "metadata": {},
   "source": [
    "# Technical Analysis Of Intel\n",
    "\n",
    "## Purpose\n",
    "This phase of the project focuses on conducting an in-depth exploratory data analysis (EDA) of the selected stock. The goal is to extract valuable insights and explore key statistics that will lay the foundation for building a robust stock market forecasting system capable of providing actionable recommendations—Buy, Sell, or Hold.\n",
    "### 1.0 Load Data and Calculate Key Statistics"
   ]
  },
  {
   "cell_type": "markdown",
   "metadata": {},
   "source": [
    "## Potential stocks of interest \n",
    "    - INTC  \n",
    "    - AAPL\n",
    "    - INTC\n",
    "    - MLTX\n",
    "    - TSLA\n",
    "    - HON\n"
   ]
  },
  {
   "cell_type": "code",
   "execution_count": 54,
   "metadata": {},
   "outputs": [],
   "source": [
    "# Importing Libraries and Data\n",
    "import pandas as pd\n",
    "import numpy as np\n",
    "import matplotlib.pyplot as plt\n",
    "import seaborn as sns\n",
    "import altair as alt\n",
    "import mplfinance as mpf\n",
    "import plotly.graph_objects as go\n",
    "import yfinance as yf\n",
    "from scipy.stats import norm\n",
    "from SimulateDay import add_columns\n",
    "import datetime\n",
    "stock_df = pd.read_csv('data/sp500_stocks.csv')"
   ]
  },
  {
   "cell_type": "code",
   "execution_count": 55,
   "metadata": {},
   "outputs": [
    {
     "data": {
      "text/html": [
       "<div>\n",
       "<style scoped>\n",
       "    .dataframe tbody tr th:only-of-type {\n",
       "        vertical-align: middle;\n",
       "    }\n",
       "\n",
       "    .dataframe tbody tr th {\n",
       "        vertical-align: top;\n",
       "    }\n",
       "\n",
       "    .dataframe thead th {\n",
       "        text-align: right;\n",
       "    }\n",
       "</style>\n",
       "<table border=\"1\" class=\"dataframe\">\n",
       "  <thead>\n",
       "    <tr style=\"text-align: right;\">\n",
       "      <th></th>\n",
       "      <th>Date</th>\n",
       "      <th>Symbol</th>\n",
       "      <th>Adj Close</th>\n",
       "      <th>Close</th>\n",
       "      <th>High</th>\n",
       "      <th>Low</th>\n",
       "      <th>Open</th>\n",
       "      <th>Volume</th>\n",
       "    </tr>\n",
       "  </thead>\n",
       "  <tbody>\n",
       "    <tr>\n",
       "      <th>144885</th>\n",
       "      <td>2010-01-04</td>\n",
       "      <td>AAPL</td>\n",
       "      <td>6.572423</td>\n",
       "      <td>7.643214</td>\n",
       "      <td>7.660714</td>\n",
       "      <td>7.585000</td>\n",
       "      <td>7.622500</td>\n",
       "      <td>493729600.0</td>\n",
       "    </tr>\n",
       "    <tr>\n",
       "      <th>144886</th>\n",
       "      <td>2010-01-05</td>\n",
       "      <td>AAPL</td>\n",
       "      <td>6.583786</td>\n",
       "      <td>7.656429</td>\n",
       "      <td>7.699643</td>\n",
       "      <td>7.616071</td>\n",
       "      <td>7.664286</td>\n",
       "      <td>601904800.0</td>\n",
       "    </tr>\n",
       "    <tr>\n",
       "      <th>144887</th>\n",
       "      <td>2010-01-06</td>\n",
       "      <td>AAPL</td>\n",
       "      <td>6.479064</td>\n",
       "      <td>7.534643</td>\n",
       "      <td>7.686786</td>\n",
       "      <td>7.526786</td>\n",
       "      <td>7.656429</td>\n",
       "      <td>552160000.0</td>\n",
       "    </tr>\n",
       "    <tr>\n",
       "      <th>144888</th>\n",
       "      <td>2010-01-07</td>\n",
       "      <td>AAPL</td>\n",
       "      <td>6.467087</td>\n",
       "      <td>7.520714</td>\n",
       "      <td>7.571429</td>\n",
       "      <td>7.466071</td>\n",
       "      <td>7.562500</td>\n",
       "      <td>477131200.0</td>\n",
       "    </tr>\n",
       "    <tr>\n",
       "      <th>144889</th>\n",
       "      <td>2010-01-08</td>\n",
       "      <td>AAPL</td>\n",
       "      <td>6.510081</td>\n",
       "      <td>7.570714</td>\n",
       "      <td>7.571429</td>\n",
       "      <td>7.466429</td>\n",
       "      <td>7.510714</td>\n",
       "      <td>447610800.0</td>\n",
       "    </tr>\n",
       "    <tr>\n",
       "      <th>...</th>\n",
       "      <td>...</td>\n",
       "      <td>...</td>\n",
       "      <td>...</td>\n",
       "      <td>...</td>\n",
       "      <td>...</td>\n",
       "      <td>...</td>\n",
       "      <td>...</td>\n",
       "      <td>...</td>\n",
       "    </tr>\n",
       "    <tr>\n",
       "      <th>148595</th>\n",
       "      <td>2024-10-01</td>\n",
       "      <td>AAPL</td>\n",
       "      <td>226.210007</td>\n",
       "      <td>226.210007</td>\n",
       "      <td>229.649994</td>\n",
       "      <td>223.740005</td>\n",
       "      <td>229.520004</td>\n",
       "      <td>63285000.0</td>\n",
       "    </tr>\n",
       "    <tr>\n",
       "      <th>148596</th>\n",
       "      <td>2024-10-02</td>\n",
       "      <td>AAPL</td>\n",
       "      <td>226.779999</td>\n",
       "      <td>226.779999</td>\n",
       "      <td>227.369995</td>\n",
       "      <td>223.020004</td>\n",
       "      <td>225.889999</td>\n",
       "      <td>32880600.0</td>\n",
       "    </tr>\n",
       "    <tr>\n",
       "      <th>148597</th>\n",
       "      <td>2024-10-03</td>\n",
       "      <td>AAPL</td>\n",
       "      <td>225.669998</td>\n",
       "      <td>225.669998</td>\n",
       "      <td>226.809998</td>\n",
       "      <td>223.320007</td>\n",
       "      <td>225.139999</td>\n",
       "      <td>34044200.0</td>\n",
       "    </tr>\n",
       "    <tr>\n",
       "      <th>148598</th>\n",
       "      <td>2024-10-04</td>\n",
       "      <td>AAPL</td>\n",
       "      <td>226.800003</td>\n",
       "      <td>226.800003</td>\n",
       "      <td>228.000000</td>\n",
       "      <td>224.130005</td>\n",
       "      <td>227.899994</td>\n",
       "      <td>37245100.0</td>\n",
       "    </tr>\n",
       "    <tr>\n",
       "      <th>148599</th>\n",
       "      <td>2024-10-07</td>\n",
       "      <td>AAPL</td>\n",
       "      <td>221.690002</td>\n",
       "      <td>221.690002</td>\n",
       "      <td>225.690002</td>\n",
       "      <td>221.335007</td>\n",
       "      <td>224.460007</td>\n",
       "      <td>38944409.0</td>\n",
       "    </tr>\n",
       "  </tbody>\n",
       "</table>\n",
       "<p>3715 rows × 8 columns</p>\n",
       "</div>"
      ],
      "text/plain": [
       "              Date Symbol   Adj Close       Close        High         Low  \\\n",
       "144885  2010-01-04   AAPL    6.572423    7.643214    7.660714    7.585000   \n",
       "144886  2010-01-05   AAPL    6.583786    7.656429    7.699643    7.616071   \n",
       "144887  2010-01-06   AAPL    6.479064    7.534643    7.686786    7.526786   \n",
       "144888  2010-01-07   AAPL    6.467087    7.520714    7.571429    7.466071   \n",
       "144889  2010-01-08   AAPL    6.510081    7.570714    7.571429    7.466429   \n",
       "...            ...    ...         ...         ...         ...         ...   \n",
       "148595  2024-10-01   AAPL  226.210007  226.210007  229.649994  223.740005   \n",
       "148596  2024-10-02   AAPL  226.779999  226.779999  227.369995  223.020004   \n",
       "148597  2024-10-03   AAPL  225.669998  225.669998  226.809998  223.320007   \n",
       "148598  2024-10-04   AAPL  226.800003  226.800003  228.000000  224.130005   \n",
       "148599  2024-10-07   AAPL  221.690002  221.690002  225.690002  221.335007   \n",
       "\n",
       "              Open       Volume  \n",
       "144885    7.622500  493729600.0  \n",
       "144886    7.664286  601904800.0  \n",
       "144887    7.656429  552160000.0  \n",
       "144888    7.562500  477131200.0  \n",
       "144889    7.510714  447610800.0  \n",
       "...            ...          ...  \n",
       "148595  229.520004   63285000.0  \n",
       "148596  225.889999   32880600.0  \n",
       "148597  225.139999   34044200.0  \n",
       "148598  227.899994   37245100.0  \n",
       "148599  224.460007   38944409.0  \n",
       "\n",
       "[3715 rows x 8 columns]"
      ]
     },
     "execution_count": 55,
     "metadata": {},
     "output_type": "execute_result"
    }
   ],
   "source": [
    "\n",
    "company_df = pd.read_csv('data/sp500_companies.csv')\n",
    "stock_df = pd.read_csv('data/sp500_stocks.csv')\n",
    "\n",
    "def _select_stock():\n",
    "    company_name = input('Enter the name of the company: ')\n",
    "    return stock_df[stock_df['Symbol'] == company_name]\n",
    "\n",
    "stock_df = _select_stock()\n",
    "stock_df"
   ]
  },
  {
   "cell_type": "code",
   "execution_count": 56,
   "metadata": {},
   "outputs": [
    {
     "name": "stderr",
     "output_type": "stream",
     "text": [
      "/var/folders/75/l95mxw1j5w9ddljb82_6_m_40000gn/T/ipykernel_72466/4008321228.py:8: FutureWarning: The behavior of DataFrame.idxmax with all-NA values, or any-NA and skipna=False, is deprecated. In a future version this will raise ValueError\n",
      "  stock_df['Best_Return_Window'] = stock_df[['1_Day_Return', '5_Day_Return', '10_Day_Return','20_Day_Return', '50_Day_Return', '200_Day_Return']].idxmax(axis=1)\n"
     ]
    }
   ],
   "source": [
    "stock_df['1_Day_Return'] = (stock_df['Close'] - stock_df['Close'].shift(1)) / stock_df['Close'].shift(1) * 100\n",
    "stock_df['5_Day_Return'] = (stock_df['Close'] - stock_df['Close'].shift(5)) / stock_df['Close'].shift(5) * 100\n",
    "stock_df['10_Day_Return'] = (stock_df['Close'] - stock_df['Close'].shift(10)) / stock_df['Close'].shift(10) * 100\n",
    "stock_df['20_Day_Return'] = (stock_df['Close'] - stock_df['Close'].shift(20)) / stock_df['Close'].shift(20) * 100\n",
    "stock_df['50_Day_Return'] = (stock_df['Close'] - stock_df['Close'].shift(50)) / stock_df['Close'].shift(50) * 100\n",
    "stock_df['200_Day_Return'] = (stock_df['Close'] - stock_df['Close'].shift(200)) / stock_df['Close'].shift(200) * 100\n",
    "\n",
    "stock_df['Best_Return_Window'] = stock_df[['1_Day_Return', '5_Day_Return', '10_Day_Return','20_Day_Return', '50_Day_Return', '200_Day_Return']].idxmax(axis=1)\n",
    "stock_df['Best_Return'] = stock_df[['1_Day_Return', '5_Day_Return', '10_Day_Return','20_Day_Return', '50_Day_Return', '200_Day_Return']].max(axis=1)\n",
    "stock_df['Best_Return_Window'] = stock_df['Best_Return_Window'].replace('_Day_Return', '', regex=True)\n"
   ]
  },
  {
   "cell_type": "code",
   "execution_count": 57,
   "metadata": {},
   "outputs": [],
   "source": [
    "# Create lag columns\n",
    "stock_df['close_lag1'] = stock_df['Close'].shift(1)\n",
    "stock_df['close_lag2'] = stock_df['Close'].shift(2)\n",
    "stock_df['close_lag3'] = stock_df['Close'].shift(3)\n",
    "stock_df['close_lag4'] = stock_df['Close'].shift(5)\n",
    "stock_df['close_lag5'] = stock_df['Close'].shift(10)\n",
    "\n",
    "stock_df['volume_lag1'] = stock_df['Volume'].shift(1)\n",
    "stock_df['volume_lag2'] = stock_df['Volume'].shift(2)\n",
    "stock_df['volume_lag3'] = stock_df['Volume'].shift(3)\n",
    "stock_df['volume_lag4'] = stock_df['Volume'].shift(5)\n",
    "stock_df['volume_lag5'] = stock_df['Volume'].shift(10)"
   ]
  },
  {
   "cell_type": "code",
   "execution_count": 58,
   "metadata": {},
   "outputs": [],
   "source": [
    "# Create new columns with Moving Averages and Standard Deviations\n",
    "\n",
    "stock_df['Date'] = pd.to_datetime(stock_df['Date'])\n",
    "\n",
    "stock_df['MA_10'] = stock_df.groupby('Symbol')['Close'].rolling(window=10).mean().reset_index(level=0, drop=True)\n",
    "stock_df['MA_20'] = stock_df.groupby('Symbol')['Close'].rolling(window=20).mean().reset_index(level=0, drop=True)\n",
    "stock_df['MA_50'] = stock_df.groupby('Symbol')['Close'].rolling(window=50).mean().reset_index(level=0, drop=True)\n",
    "stock_df['MA_200'] = stock_df.groupby('Symbol')['Close'].rolling(window=200).mean().reset_index(level=0, drop=True)\n",
    "stock_df['std_10'] = stock_df.groupby('Symbol')['Close'].rolling(window=10).std().reset_index(level=0, drop=True)\n",
    "stock_df['std_20'] = stock_df.groupby('Symbol')['Close'].rolling(window=20).std().reset_index(level=0, drop=True)\n",
    "stock_df['std_50'] = stock_df.groupby('Symbol')['Close'].rolling(window=50).std().reset_index(level=0, drop=True)\n",
    "stock_df['std_200'] = stock_df.groupby('Symbol')['Close'].rolling(window=200).std().reset_index(level=0, drop=True)\n"
   ]
  },
  {
   "cell_type": "code",
   "execution_count": 59,
   "metadata": {},
   "outputs": [],
   "source": [
    "# Create new columns with Bollinger Bands for each Moving Average\n",
    "\n",
    "stock_df['upper_band_10'] = stock_df['MA_10'] + (stock_df['std_10'] * 2)\n",
    "stock_df['lower_band_10'] = stock_df['MA_10'] - (stock_df['std_10'] * 2)\n",
    "\n",
    "stock_df['upper_band_20'] = stock_df['MA_20'] + (stock_df['std_20'] * 2)\n",
    "stock_df['lower_band_20'] = stock_df['MA_20'] - (stock_df['std_20'] * 2)\n",
    "\n",
    "stock_df['upper_band_50'] = stock_df['MA_50'] + (stock_df['std_50'] * 2)\n",
    "stock_df['lower_band_50'] = stock_df['MA_50'] - (stock_df['std_50'] * 2)\n",
    "\n",
    "\n",
    "stock_df['upper_band_200'] = stock_df['MA_200'] + (stock_df['std_200'] * 2)\n",
    "stock_df['lower_band_200'] = stock_df['MA_200'] - (stock_df['std_200'] * 2)"
   ]
  },
  {
   "cell_type": "code",
   "execution_count": 60,
   "metadata": {},
   "outputs": [],
   "source": [
    "# Create new columns Indicating Golden Cross and Death Cross\n",
    "\n",
    "stock_df['Golden_Cross_Short'] = np.where((stock_df['MA_10'] > stock_df['MA_20']) & (stock_df['MA_10'].shift(1) <= stock_df['MA_20'].shift(1)), 1, 0)\n",
    "stock_df['Golden_Cross_Medium'] = np.where((stock_df['MA_20'] > stock_df['MA_50']) & (stock_df['MA_20'].shift(1) <= stock_df['MA_50'].shift(1)), 1, 0)\n",
    "stock_df['Golden_Cross_Long'] = np.where((stock_df['MA_50'] > stock_df['MA_200']) & (stock_df['MA_50'].shift(1) <= stock_df['MA_200'].shift(1)), 1, 0)\n",
    "\n",
    "stock_df['Death_Cross_Short'] = np.where((stock_df['MA_10'] < stock_df['MA_20']) & (stock_df['MA_10'].shift(1) >= stock_df['MA_20'].shift(1)), 1, 0)\n",
    "stock_df['Death_Cross_Medium'] = np.where((stock_df['MA_20'] < stock_df['MA_50']) & (stock_df['MA_20'].shift(1) >= stock_df['MA_50'].shift(1)), 1, 0)\n",
    "stock_df['Death_Cross_Long'] = np.where((stock_df['MA_50'] < stock_df['MA_200']) & (stock_df['MA_50'].shift(1) >= stock_df['MA_200'].shift(1)), 1, 0)"
   ]
  },
  {
   "cell_type": "code",
   "execution_count": 61,
   "metadata": {},
   "outputs": [],
   "source": [
    "# Create new columns with Rate of Change and Average Volume\n",
    "\n",
    "stock_df['ROC'] = ((stock_df['Close'] - stock_df['Close'].shift(1)) / stock_df['Close'].shift(1)) * 100\n",
    "\n",
    "stock_df['AVG_Volume_10'] = stock_df.groupby('Symbol')['Volume'].rolling(window=10).mean().reset_index(level=0, drop=True)\n",
    "stock_df['AVG_Volume_20'] = stock_df.groupby('Symbol')['Volume'].rolling(window=20).mean().reset_index(level=0, drop=True)\n",
    "stock_df['AVG_Volume_50'] = stock_df.groupby('Symbol')['Volume'].rolling(window=50).mean().reset_index(level=0, drop=True)\n",
    "stock_df['AVG_Volume_200'] = stock_df.groupby('Symbol')['Volume'].rolling(window=200).mean().reset_index(level=0, drop=True)"
   ]
  },
  {
   "cell_type": "code",
   "execution_count": 62,
   "metadata": {},
   "outputs": [],
   "source": [
    "# Create new columns signaling candlestick patterns \n",
    "\n",
    "def is_doji(row):\n",
    "    return abs(row['Close'] - row['Open']) <= (row['High'] - row['Low']) * 0.1\n",
    "def is_bullish_engulfing(current_row, previous_row):\n",
    "    # Example logic for identifying a bullish engulfing pattern\n",
    "    if previous_row['Close'] < previous_row['Open'] and current_row['Close'] > current_row['Open'] and current_row['Close'] > previous_row['Open'] and current_row['Open'] < previous_row['Close']:\n",
    "        return True\n",
    "    return False\n",
    "\n",
    "def is_bearish_engulfing(current_row, previous_row):\n",
    "    # Example logic for identifying a bearish engulfing pattern\n",
    "    if previous_row['Close'] > previous_row['Open'] and current_row['Close'] < current_row['Open'] and current_row['Close'] < previous_row['Open'] and current_row['Open'] > previous_row['Close']:\n",
    "        return True\n",
    "    return False\n",
    "\n",
    "# Doji Candlestick Pattern, identified by a small body and long wicks\n",
    "stock_df['Doji'] = stock_df.apply(is_doji, axis=1)\n",
    "\n",
    "# Bullish and Bearish Engulfing Candlestick Patterns, identified by a large body that engulfs the previous candle\n",
    "stock_df['Bullish_Engulfing'] = stock_df.apply(lambda row: is_bullish_engulfing(row, stock_df.shift(1).loc[row.name]), axis=1)\n",
    "stock_df['Bearish_Engulfing'] = stock_df.apply(lambda row: is_bearish_engulfing(row, stock_df.shift(1).loc[row.name]), axis=1)"
   ]
  },
  {
   "cell_type": "code",
   "execution_count": 63,
   "metadata": {},
   "outputs": [],
   "source": [
    "# Create new columns for MACD, Signal Line and MACD Histogram\n",
    "\n",
    "def calculate_macd(df, short_window=12, long_window=26, signal_window=9):\n",
    "    # Calculate the short-term EMA\n",
    "    df['EMA_short'] = df['Close'].ewm(span=short_window, adjust=False).mean()\n",
    "    \n",
    "    # Calculate the long-term EMA\n",
    "    df['EMA_long'] = df['Close'].ewm(span=long_window, adjust=False).mean()\n",
    "    \n",
    "    # Calculate the MACD line\n",
    "    df['MACD'] = df['EMA_short'] - df['EMA_long']\n",
    "    \n",
    "    # Calculate the Signal line\n",
    "    df['Signal'] = df['MACD'].ewm(span=signal_window, adjust=False).mean()\n",
    "    \n",
    "    # Calculate the MACD histogram\n",
    "    df['MACD_Hist'] = df['MACD'] - df['Signal']\n",
    "    \n",
    "    return df\n",
    "\n",
    "stock_df = calculate_macd(stock_df)"
   ]
  },
  {
   "cell_type": "code",
   "execution_count": 64,
   "metadata": {},
   "outputs": [],
   "source": [
    "# Create new columns for Average True Range (ATR) and True Range (TR)\n",
    "\n",
    "stock_df['Previous_Close'] = stock_df['Close'].shift(1)\n",
    "\n",
    "# True Range, Shows the volatility of the stock\n",
    "stock_df['TR'] = stock_df.apply(\n",
    "    lambda row: max(\n",
    "        row['High'] - row['Low'],  # High - Low\n",
    "        abs(row['High'] - row['Previous_Close']),  # |High - Previous Close|\n",
    "        abs(row['Low'] - row['Previous_Close'])  # |Low - Previous Close|\n",
    "    ), axis=1\n",
    ")\n",
    "\n",
    "# Average True Range, Shows the average volatility of the stock\n",
    "stock_df['ATR'] = stock_df['TR'].rolling(window=10).mean()"
   ]
  },
  {
   "cell_type": "code",
   "execution_count": 65,
   "metadata": {},
   "outputs": [],
   "source": [
    "# Create new columns for Relative Strength Index (RSI)\n",
    "\n",
    "def calculate_rsi(df, window=10):\n",
    "    # Calculate daily price changes\n",
    "    delta = df['Close'].diff()\n",
    "\n",
    "    # Separate gains and losses\n",
    "    gain = delta.where(delta > 0, 0)\n",
    "    loss = -delta.where(delta < 0, 0)\n",
    "\n",
    "    # Calculate the average gain and average loss\n",
    "    avg_gain = gain.rolling(window=window, min_periods=1).mean()\n",
    "    avg_loss = loss.rolling(window=window, min_periods=1).mean()\n",
    "\n",
    "    # Calculate the Relative Strength (RS)\n",
    "    rs = avg_gain / avg_loss\n",
    "\n",
    "    # Calculate the RSI\n",
    "    rsi = 100 - (100 / (1 + rs))\n",
    "\n",
    "    return rsi\n",
    "\n",
    "# Add RSI column to the DataFrame\n",
    "stock_df['RSI_10_Day'] = calculate_rsi(stock_df)"
   ]
  },
  {
   "cell_type": "code",
   "execution_count": 66,
   "metadata": {},
   "outputs": [],
   "source": [
    "# Create new columns for 10 Day Rate of Change (ROC)\n",
    "stock_df['10_Day_ROC'] = ((stock_df['Close'] - stock_df['Close'].shift(10)) / stock_df['Close'].shift(10)) * 100"
   ]
  },
  {
   "cell_type": "code",
   "execution_count": 67,
   "metadata": {},
   "outputs": [],
   "source": [
    "# Create new columns for 10,20,50 day resistance and support levels\n",
    "stock_df['Resistance_10_Day'] = stock_df['Close'].rolling(window=10).max()\n",
    "stock_df['Support_10_Day'] = stock_df['Close'].rolling(window=10).min()\n",
    "stock_df['Resistance_20_Day'] = stock_df['Close'].rolling(window=20).max()\n",
    "stock_df['Support_20_Day'] = stock_df['Close'].rolling(window=20).min()\n",
    "stock_df['Resistance_50_Day'] = stock_df['Close'].rolling(window=50).max()\n",
    "stock_df['Support_50_Day'] = stock_df['Close'].rolling(window=50).min()"
   ]
  },
  {
   "cell_type": "code",
   "execution_count": 68,
   "metadata": {},
   "outputs": [],
   "source": [
    "# Create new columns for 10,20,50 day Volume Indicators\n",
    "stock_df['Volume_MA_10'] = stock_df['Volume'].rolling(window=10).mean()\n",
    "stock_df['Volume_MA_20'] = stock_df['Volume'].rolling(window=20).mean()\n",
    "stock_df['Volume_MA_50'] = stock_df['Volume'].rolling(window=50).mean()"
   ]
  },
  {
   "cell_type": "code",
   "execution_count": 69,
   "metadata": {},
   "outputs": [],
   "source": [
    "def create_OBV(df):\n",
    "    df['OBV'] = 0\n",
    "    for i in range(1, len(df)):\n",
    "        if df['Close'].iloc[i] > df['Close'].iloc[i - 1]:\n",
    "            df.loc[df.index[i], 'OBV'] = df['OBV'].iloc[i - 1] + df['Volume'].iloc[i]\n",
    "        elif df['Close'].iloc[i] < df['Close'].iloc[i - 1]:\n",
    "            df.loc[df.index[i], 'OBV'] = df['OBV'].iloc[i - 1] - df['Volume'].iloc[i]\n",
    "        else:\n",
    "            df.loc[df.index[i], 'OBV'] = df['OBV'].iloc[i - 1]\n",
    "    return df\n",
    "\n",
    "stock_df = create_OBV(stock_df)"
   ]
  },
  {
   "cell_type": "code",
   "execution_count": 70,
   "metadata": {},
   "outputs": [
    {
     "name": "stdout",
     "output_type": "stream",
     "text": [
      "Strike: 10.0, Implied Volatility: 13.33970627920019, Delta: 0.9990505193238155\n",
      "Strike: 11.0, Implied Volatility: 12.341676937637786, Delta: 0.9979999859586905\n",
      "Strike: 12.0, Implied Volatility: 11.343647596075389, Delta: 0.9959914551108637\n",
      "Strike: 13.0, Implied Volatility: 10.345618254517564, Delta: 0.992346998245317\n",
      "Strike: 14.0, Implied Volatility: 9.34758891401553, Delta: 0.9860680819069687\n",
      "Strike: 15.0, Implied Volatility: 8.34955966501639, Delta: 0.9757925703909309\n",
      "Strike: 16.0, Implied Volatility: 7.351533920392729, Delta: 0.9598144798598331\n",
      "Strike: 16.5, Implied Volatility: 6.852533469024621, Delta: 0.9490864212760404\n",
      "Strike: 17.0, Implied Volatility: 6.353575544755653, Delta: 0.9362024513027618\n",
      "Strike: 17.5, Implied Volatility: 5.854757017521326, Delta: 0.9209274098607729\n",
      "Strike: 18.0, Implied Volatility: 5.356336445908632, Delta: 0.9030548355023889\n",
      "Strike: 18.5, Implied Volatility: 4.858915549524905, Delta: 0.8824306448387801\n",
      "Strike: 19.0, Implied Volatility: 4.363724980572869, Delta: 0.8589866432664777\n",
      "Strike: 19.5, Implied Volatility: 3.8729914257640914, Delta: 0.8327833259524078\n",
      "Strike: 20.0, Implied Volatility: 3.390297628176821, Delta: 0.8040528930375566\n",
      "Strike: 20.5, Implied Volatility: 2.920787464742883, Delta: 0.7732203272002277\n",
      "Strike: 21.0, Implied Volatility: 2.4710575738673413, Delta: 0.7408684445678606\n",
      "Strike: 21.5, Implied Volatility: 2.0486434946721843, Delta: 0.7076101520809539\n",
      "Strike: 22.0, Implied Volatility: 1.6611395647055431, Delta: 0.6738400768012266\n",
      "Strike: 22.5, Implied Volatility: 1.315133690134516, Delta: 0.6393465049906071\n",
      "Strike: 23.0, Implied Volatility: 1.0152228983729206, Delta: 0.6027488704392431\n",
      "Strike: 23.5, Implied Volatility: 0.7633617663502523, Delta: 0.5606663778356766\n",
      "Strike: 24.0, Implied Volatility: 0.55869094876339, Delta: 0.5064565969653452\n",
      "Strike: 24.5, Implied Volatility: 0.3978462344220164, Delta: 0.4286386271839248\n",
      "Strike: 25.0, Implied Volatility: 0.27562085937793235, Delta: 0.31173094403124424\n",
      "Strike: 26.0, Implied Volatility: 0.12189006285886306, Delta: 0.025829488265060662\n",
      "Strike: 27.0, Implied Volatility: 0.04847354501782286, Delta: 1.017018403990064e-11\n",
      "Strike: 28.0, Implied Volatility: 0.01742458989845408, Delta: 3.926327106640604e-121\n",
      "Strike: 29.0, Implied Volatility: 0.005697296860428774, Delta: 0.0\n",
      "Strike: 30.0, Implied Volatility: 0.00170594276334661, Delta: 0.0\n",
      "Strike: 31.0, Implied Volatility: 0.00047100606569353345, Delta: 0.0\n",
      "Strike: 32.0, Implied Volatility: 0.00012071452164082955, Delta: 0.0\n",
      "Strike: 33.0, Implied Volatility: 2.890232937777866e-05, Delta: 0.0\n",
      "Strike: 34.0, Implied Volatility: 6.503513770414167e-06, Delta: 0.0\n",
      "Strike: 35.0, Implied Volatility: 1.3830103186114541e-06, Delta: 0.0\n",
      "Strike: 36.0, Implied Volatility: 2.79384252757595e-07, Delta: 0.0\n",
      "Strike: 37.0, Implied Volatility: 5.3868682664455553e-08, Delta: 0.0\n",
      "Strike: 38.0, Implied Volatility: 9.956762874874892e-09, Delta: 0.0\n",
      "Strike: 39.0, Implied Volatility: 1.7712437899221787e-09, Delta: 0.0\n",
      "Strike: 40.0, Implied Volatility: 3.0436945320638375e-10, Delta: 0.0\n",
      "Strike: 41.0, Implied Volatility: 5.0691531403011177e-11, Delta: 0.0\n",
      "Strike: 42.0, Implied Volatility: 8.207420571805452e-12, Delta: 0.0\n",
      "Strike: 43.0, Implied Volatility: 1.2954693684991399e-12, Delta: 0.0\n",
      "Strike: 44.0, Implied Volatility: 1.9985084133278487e-13, Delta: 0.0\n",
      "Strike: 45.0, Implied Volatility: 3.020358693068937e-14, Delta: 0.0\n",
      "Strike: 46.0, Implied Volatility: 4.481410145503345e-15, Delta: 0.0\n",
      "Strike: 47.0, Implied Volatility: 6.540737041265986e-16, Delta: 0.0\n",
      "Strike: 48.0, Implied Volatility: 9.407537772504918e-17, Delta: 0.0\n",
      "Strike: 49.0, Implied Volatility: 1.3356097965115147e-17, Delta: 0.0\n",
      "Strike: 50.0, Implied Volatility: 1.8745453896217182e-18, Delta: 0.0\n",
      "Strike: 55.0, Implied Volatility: 8.989187872995139e-23, Delta: 0.0\n",
      "Strike: 60.0, Implied Volatility: 3.825776985698092e-27, Delta: 0.0\n",
      "Strike: 65.0, Implied Volatility: 1.5845484947654428e-31, Delta: 0.0\n"
     ]
    }
   ],
   "source": [
    "def calculate_implied_volatility(option_price, stock_price, strike_price, time_to_expiry, risk_free_rate, sigma, option_type='call'):\n",
    "    # Black-Scholes formula components\n",
    "    d1 = (np.log(stock_price / strike_price) + (risk_free_rate + 0.5 * sigma ** 2) * time_to_expiry) / (sigma * np.sqrt(time_to_expiry))\n",
    "    d2 = d1 - sigma * np.sqrt(time_to_expiry)\n",
    "    \n",
    "    if option_type == 'call':\n",
    "        option_price_calc = stock_price * norm.cdf(d1) - strike_price * np.exp(-risk_free_rate * time_to_expiry) * norm.cdf(d2)\n",
    "    else:\n",
    "        option_price_calc = strike_price * np.exp(-risk_free_rate * time_to_expiry) * norm.cdf(-d2) - stock_price * norm.cdf(-d1)\n",
    "    \n",
    "    return option_price_calc\n",
    "\n",
    "# Example: Fetch options data for a stock\n",
    "ticker = 'INTC'\n",
    "stock = yf.Ticker(ticker)\n",
    "options = stock.option_chain('2024-10-18')\n",
    "\n",
    "# Define a sigma value (e.g., 0.2 for 20% volatility)\n",
    "sigma = 0.2\n",
    "\n",
    "# Calculate implied volatility and delta for each option\n",
    "for option in options.calls.itertuples():\n",
    "    time_to_expiry = (pd.Timestamp('2024-12-20') - pd.Timestamp.today()).days / 365\n",
    "    implied_volatility = calculate_implied_volatility(option.lastPrice, stock.history(period='1d')['Close'].iloc[-1], option.strike, time_to_expiry, 0.01, sigma)\n",
    "    delta = norm.cdf((np.log(stock.history(period='1d')['Close'].iloc[-1] / option.strike) + (0.01 + 0.5 * implied_volatility ** 2) * time_to_expiry) / (implied_volatility * np.sqrt(time_to_expiry)))\n",
    "    print(f\"Strike: {option.strike}, Implied Volatility: {implied_volatility}, Delta: {delta}\")"
   ]
  },
  {
   "cell_type": "markdown",
   "metadata": {},
   "source": [
    "Implications for Options Trading:\n",
    "Lower Strike Prices: Higher delta means these options are more likely to be exercised if the price moves favorably, and they provide higher leverage with a higher probability of profit.\n",
    "Higher Strike Prices: Lower delta and implied volatility suggest these options have a very low chance of reaching the strike price and thus carry minimal value unless a significant price movement occurs.\n"
   ]
  },
  {
   "cell_type": "markdown",
   "metadata": {},
   "source": [
    "### Preview Data with Additional Columns"
   ]
  },
  {
   "cell_type": "code",
   "execution_count": 71,
   "metadata": {},
   "outputs": [
    {
     "data": {
      "text/html": [
       "<div>\n",
       "<style scoped>\n",
       "    .dataframe tbody tr th:only-of-type {\n",
       "        vertical-align: middle;\n",
       "    }\n",
       "\n",
       "    .dataframe tbody tr th {\n",
       "        vertical-align: top;\n",
       "    }\n",
       "\n",
       "    .dataframe thead th {\n",
       "        text-align: right;\n",
       "    }\n",
       "</style>\n",
       "<table border=\"1\" class=\"dataframe\">\n",
       "  <thead>\n",
       "    <tr style=\"text-align: right;\">\n",
       "      <th></th>\n",
       "      <th>Date</th>\n",
       "      <th>Symbol</th>\n",
       "      <th>Adj Close</th>\n",
       "      <th>Close</th>\n",
       "      <th>High</th>\n",
       "      <th>Low</th>\n",
       "      <th>Open</th>\n",
       "      <th>Volume</th>\n",
       "      <th>1_Day_Return</th>\n",
       "      <th>5_Day_Return</th>\n",
       "      <th>...</th>\n",
       "      <th>Support_10_Day</th>\n",
       "      <th>Resistance_20_Day</th>\n",
       "      <th>Support_20_Day</th>\n",
       "      <th>Resistance_50_Day</th>\n",
       "      <th>Support_50_Day</th>\n",
       "      <th>Volume_MA_10</th>\n",
       "      <th>Volume_MA_20</th>\n",
       "      <th>Volume_MA_50</th>\n",
       "      <th>OBV</th>\n",
       "      <th>Z-score</th>\n",
       "    </tr>\n",
       "  </thead>\n",
       "  <tbody>\n",
       "    <tr>\n",
       "      <th>144885</th>\n",
       "      <td>2010-01-04</td>\n",
       "      <td>AAPL</td>\n",
       "      <td>6.572423</td>\n",
       "      <td>7.643214</td>\n",
       "      <td>7.660714</td>\n",
       "      <td>7.585000</td>\n",
       "      <td>7.622500</td>\n",
       "      <td>493729600.0</td>\n",
       "      <td>0.000000</td>\n",
       "      <td>0.000000</td>\n",
       "      <td>...</td>\n",
       "      <td>0.000000</td>\n",
       "      <td>0.0</td>\n",
       "      <td>0.000000</td>\n",
       "      <td>0.0</td>\n",
       "      <td>0.000000</td>\n",
       "      <td>0.0</td>\n",
       "      <td>0.00</td>\n",
       "      <td>0.00</td>\n",
       "      <td>0</td>\n",
       "      <td>-0.954569</td>\n",
       "    </tr>\n",
       "    <tr>\n",
       "      <th>144886</th>\n",
       "      <td>2010-01-05</td>\n",
       "      <td>AAPL</td>\n",
       "      <td>6.583786</td>\n",
       "      <td>7.656429</td>\n",
       "      <td>7.699643</td>\n",
       "      <td>7.616071</td>\n",
       "      <td>7.664286</td>\n",
       "      <td>601904800.0</td>\n",
       "      <td>0.172893</td>\n",
       "      <td>0.000000</td>\n",
       "      <td>...</td>\n",
       "      <td>0.000000</td>\n",
       "      <td>0.0</td>\n",
       "      <td>0.000000</td>\n",
       "      <td>0.0</td>\n",
       "      <td>0.000000</td>\n",
       "      <td>0.0</td>\n",
       "      <td>0.00</td>\n",
       "      <td>0.00</td>\n",
       "      <td>601904800</td>\n",
       "      <td>-0.954357</td>\n",
       "    </tr>\n",
       "    <tr>\n",
       "      <th>144887</th>\n",
       "      <td>2010-01-06</td>\n",
       "      <td>AAPL</td>\n",
       "      <td>6.479064</td>\n",
       "      <td>7.534643</td>\n",
       "      <td>7.686786</td>\n",
       "      <td>7.526786</td>\n",
       "      <td>7.656429</td>\n",
       "      <td>552160000.0</td>\n",
       "      <td>-1.590632</td>\n",
       "      <td>0.000000</td>\n",
       "      <td>...</td>\n",
       "      <td>0.000000</td>\n",
       "      <td>0.0</td>\n",
       "      <td>0.000000</td>\n",
       "      <td>0.0</td>\n",
       "      <td>0.000000</td>\n",
       "      <td>0.0</td>\n",
       "      <td>0.00</td>\n",
       "      <td>0.00</td>\n",
       "      <td>49744800</td>\n",
       "      <td>-0.956312</td>\n",
       "    </tr>\n",
       "    <tr>\n",
       "      <th>144888</th>\n",
       "      <td>2010-01-07</td>\n",
       "      <td>AAPL</td>\n",
       "      <td>6.467087</td>\n",
       "      <td>7.520714</td>\n",
       "      <td>7.571429</td>\n",
       "      <td>7.466071</td>\n",
       "      <td>7.562500</td>\n",
       "      <td>477131200.0</td>\n",
       "      <td>-0.184871</td>\n",
       "      <td>0.000000</td>\n",
       "      <td>...</td>\n",
       "      <td>0.000000</td>\n",
       "      <td>0.0</td>\n",
       "      <td>0.000000</td>\n",
       "      <td>0.0</td>\n",
       "      <td>0.000000</td>\n",
       "      <td>0.0</td>\n",
       "      <td>0.00</td>\n",
       "      <td>0.00</td>\n",
       "      <td>-427386400</td>\n",
       "      <td>-0.956536</td>\n",
       "    </tr>\n",
       "    <tr>\n",
       "      <th>144889</th>\n",
       "      <td>2010-01-08</td>\n",
       "      <td>AAPL</td>\n",
       "      <td>6.510081</td>\n",
       "      <td>7.570714</td>\n",
       "      <td>7.571429</td>\n",
       "      <td>7.466429</td>\n",
       "      <td>7.510714</td>\n",
       "      <td>447610800.0</td>\n",
       "      <td>0.664833</td>\n",
       "      <td>0.000000</td>\n",
       "      <td>...</td>\n",
       "      <td>0.000000</td>\n",
       "      <td>0.0</td>\n",
       "      <td>0.000000</td>\n",
       "      <td>0.0</td>\n",
       "      <td>0.000000</td>\n",
       "      <td>0.0</td>\n",
       "      <td>0.00</td>\n",
       "      <td>0.00</td>\n",
       "      <td>20224400</td>\n",
       "      <td>-0.955733</td>\n",
       "    </tr>\n",
       "    <tr>\n",
       "      <th>...</th>\n",
       "      <td>...</td>\n",
       "      <td>...</td>\n",
       "      <td>...</td>\n",
       "      <td>...</td>\n",
       "      <td>...</td>\n",
       "      <td>...</td>\n",
       "      <td>...</td>\n",
       "      <td>...</td>\n",
       "      <td>...</td>\n",
       "      <td>...</td>\n",
       "      <td>...</td>\n",
       "      <td>...</td>\n",
       "      <td>...</td>\n",
       "      <td>...</td>\n",
       "      <td>...</td>\n",
       "      <td>...</td>\n",
       "      <td>...</td>\n",
       "      <td>...</td>\n",
       "      <td>...</td>\n",
       "      <td>...</td>\n",
       "      <td>...</td>\n",
       "    </tr>\n",
       "    <tr>\n",
       "      <th>148595</th>\n",
       "      <td>2024-10-01</td>\n",
       "      <td>AAPL</td>\n",
       "      <td>226.210007</td>\n",
       "      <td>226.210007</td>\n",
       "      <td>229.649994</td>\n",
       "      <td>223.740005</td>\n",
       "      <td>229.520004</td>\n",
       "      <td>63285000.0</td>\n",
       "      <td>-2.914160</td>\n",
       "      <td>-0.510177</td>\n",
       "      <td>...</td>\n",
       "      <td>220.690002</td>\n",
       "      <td>233.0</td>\n",
       "      <td>216.320007</td>\n",
       "      <td>233.0</td>\n",
       "      <td>207.229996</td>\n",
       "      <td>77385650.0</td>\n",
       "      <td>62261735.00</td>\n",
       "      <td>54816292.00</td>\n",
       "      <td>16716479200</td>\n",
       "      <td>2.553796</td>\n",
       "    </tr>\n",
       "    <tr>\n",
       "      <th>148596</th>\n",
       "      <td>2024-10-02</td>\n",
       "      <td>AAPL</td>\n",
       "      <td>226.779999</td>\n",
       "      <td>226.779999</td>\n",
       "      <td>227.369995</td>\n",
       "      <td>223.020004</td>\n",
       "      <td>225.889999</td>\n",
       "      <td>32880600.0</td>\n",
       "      <td>0.251975</td>\n",
       "      <td>0.181121</td>\n",
       "      <td>...</td>\n",
       "      <td>226.210007</td>\n",
       "      <td>233.0</td>\n",
       "      <td>216.320007</td>\n",
       "      <td>233.0</td>\n",
       "      <td>207.229996</td>\n",
       "      <td>74684220.0</td>\n",
       "      <td>61713755.00</td>\n",
       "      <td>54674698.00</td>\n",
       "      <td>16749359800</td>\n",
       "      <td>2.562946</td>\n",
       "    </tr>\n",
       "    <tr>\n",
       "      <th>148597</th>\n",
       "      <td>2024-10-03</td>\n",
       "      <td>AAPL</td>\n",
       "      <td>225.669998</td>\n",
       "      <td>225.669998</td>\n",
       "      <td>226.809998</td>\n",
       "      <td>223.320007</td>\n",
       "      <td>225.139999</td>\n",
       "      <td>34044200.0</td>\n",
       "      <td>-0.489461</td>\n",
       "      <td>-0.813118</td>\n",
       "      <td>...</td>\n",
       "      <td>225.669998</td>\n",
       "      <td>233.0</td>\n",
       "      <td>216.320007</td>\n",
       "      <td>233.0</td>\n",
       "      <td>207.229996</td>\n",
       "      <td>71410510.0</td>\n",
       "      <td>61585195.00</td>\n",
       "      <td>54120030.00</td>\n",
       "      <td>16715315600</td>\n",
       "      <td>2.545128</td>\n",
       "    </tr>\n",
       "    <tr>\n",
       "      <th>148598</th>\n",
       "      <td>2024-10-04</td>\n",
       "      <td>AAPL</td>\n",
       "      <td>226.800003</td>\n",
       "      <td>226.800003</td>\n",
       "      <td>228.000000</td>\n",
       "      <td>224.130005</td>\n",
       "      <td>227.899994</td>\n",
       "      <td>37245100.0</td>\n",
       "      <td>0.500733</td>\n",
       "      <td>-0.434607</td>\n",
       "      <td>...</td>\n",
       "      <td>225.669998</td>\n",
       "      <td>233.0</td>\n",
       "      <td>216.320007</td>\n",
       "      <td>233.0</td>\n",
       "      <td>207.229996</td>\n",
       "      <td>43267030.0</td>\n",
       "      <td>61026300.00</td>\n",
       "      <td>53837108.00</td>\n",
       "      <td>16752560700</td>\n",
       "      <td>2.563267</td>\n",
       "    </tr>\n",
       "    <tr>\n",
       "      <th>148599</th>\n",
       "      <td>2024-10-07</td>\n",
       "      <td>AAPL</td>\n",
       "      <td>221.690002</td>\n",
       "      <td>221.690002</td>\n",
       "      <td>225.690002</td>\n",
       "      <td>221.335007</td>\n",
       "      <td>224.460007</td>\n",
       "      <td>38944409.0</td>\n",
       "      <td>-2.253087</td>\n",
       "      <td>-4.854076</td>\n",
       "      <td>...</td>\n",
       "      <td>221.690002</td>\n",
       "      <td>233.0</td>\n",
       "      <td>216.320007</td>\n",
       "      <td>233.0</td>\n",
       "      <td>207.229996</td>\n",
       "      <td>41746870.9</td>\n",
       "      <td>59614520.45</td>\n",
       "      <td>53783970.18</td>\n",
       "      <td>16713616291</td>\n",
       "      <td>2.481242</td>\n",
       "    </tr>\n",
       "  </tbody>\n",
       "</table>\n",
       "<p>3715 rows × 77 columns</p>\n",
       "</div>"
      ],
      "text/plain": [
       "             Date Symbol   Adj Close       Close        High         Low  \\\n",
       "144885 2010-01-04   AAPL    6.572423    7.643214    7.660714    7.585000   \n",
       "144886 2010-01-05   AAPL    6.583786    7.656429    7.699643    7.616071   \n",
       "144887 2010-01-06   AAPL    6.479064    7.534643    7.686786    7.526786   \n",
       "144888 2010-01-07   AAPL    6.467087    7.520714    7.571429    7.466071   \n",
       "144889 2010-01-08   AAPL    6.510081    7.570714    7.571429    7.466429   \n",
       "...           ...    ...         ...         ...         ...         ...   \n",
       "148595 2024-10-01   AAPL  226.210007  226.210007  229.649994  223.740005   \n",
       "148596 2024-10-02   AAPL  226.779999  226.779999  227.369995  223.020004   \n",
       "148597 2024-10-03   AAPL  225.669998  225.669998  226.809998  223.320007   \n",
       "148598 2024-10-04   AAPL  226.800003  226.800003  228.000000  224.130005   \n",
       "148599 2024-10-07   AAPL  221.690002  221.690002  225.690002  221.335007   \n",
       "\n",
       "              Open       Volume  1_Day_Return  5_Day_Return  ...  \\\n",
       "144885    7.622500  493729600.0      0.000000      0.000000  ...   \n",
       "144886    7.664286  601904800.0      0.172893      0.000000  ...   \n",
       "144887    7.656429  552160000.0     -1.590632      0.000000  ...   \n",
       "144888    7.562500  477131200.0     -0.184871      0.000000  ...   \n",
       "144889    7.510714  447610800.0      0.664833      0.000000  ...   \n",
       "...            ...          ...           ...           ...  ...   \n",
       "148595  229.520004   63285000.0     -2.914160     -0.510177  ...   \n",
       "148596  225.889999   32880600.0      0.251975      0.181121  ...   \n",
       "148597  225.139999   34044200.0     -0.489461     -0.813118  ...   \n",
       "148598  227.899994   37245100.0      0.500733     -0.434607  ...   \n",
       "148599  224.460007   38944409.0     -2.253087     -4.854076  ...   \n",
       "\n",
       "        Support_10_Day  Resistance_20_Day  Support_20_Day  Resistance_50_Day  \\\n",
       "144885        0.000000                0.0        0.000000                0.0   \n",
       "144886        0.000000                0.0        0.000000                0.0   \n",
       "144887        0.000000                0.0        0.000000                0.0   \n",
       "144888        0.000000                0.0        0.000000                0.0   \n",
       "144889        0.000000                0.0        0.000000                0.0   \n",
       "...                ...                ...             ...                ...   \n",
       "148595      220.690002              233.0      216.320007              233.0   \n",
       "148596      226.210007              233.0      216.320007              233.0   \n",
       "148597      225.669998              233.0      216.320007              233.0   \n",
       "148598      225.669998              233.0      216.320007              233.0   \n",
       "148599      221.690002              233.0      216.320007              233.0   \n",
       "\n",
       "       Support_50_Day  Volume_MA_10  Volume_MA_20  Volume_MA_50          OBV  \\\n",
       "144885       0.000000           0.0          0.00          0.00            0   \n",
       "144886       0.000000           0.0          0.00          0.00    601904800   \n",
       "144887       0.000000           0.0          0.00          0.00     49744800   \n",
       "144888       0.000000           0.0          0.00          0.00   -427386400   \n",
       "144889       0.000000           0.0          0.00          0.00     20224400   \n",
       "...               ...           ...           ...           ...          ...   \n",
       "148595     207.229996    77385650.0   62261735.00   54816292.00  16716479200   \n",
       "148596     207.229996    74684220.0   61713755.00   54674698.00  16749359800   \n",
       "148597     207.229996    71410510.0   61585195.00   54120030.00  16715315600   \n",
       "148598     207.229996    43267030.0   61026300.00   53837108.00  16752560700   \n",
       "148599     207.229996    41746870.9   59614520.45   53783970.18  16713616291   \n",
       "\n",
       "         Z-score  \n",
       "144885 -0.954569  \n",
       "144886 -0.954357  \n",
       "144887 -0.956312  \n",
       "144888 -0.956536  \n",
       "144889 -0.955733  \n",
       "...          ...  \n",
       "148595  2.553796  \n",
       "148596  2.562946  \n",
       "148597  2.545128  \n",
       "148598  2.563267  \n",
       "148599  2.481242  \n",
       "\n",
       "[3715 rows x 77 columns]"
      ]
     },
     "execution_count": 71,
     "metadata": {},
     "output_type": "execute_result"
    }
   ],
   "source": [
    "\n",
    "stock_df['Z-score'] = (stock_df['Close'] - stock_df['Close'].mean()) / stock_df['Close'].std()\n",
    "company_df.fillna(0, inplace=True)\n",
    "stock_df.fillna(0, inplace=True)\n",
    "stock_df\n"
   ]
  },
  {
   "cell_type": "code",
   "execution_count": 72,
   "metadata": {},
   "outputs": [
    {
     "data": {
      "text/plain": [
       "Index(['Date', 'Symbol', 'Adj Close', 'Close', 'High', 'Low', 'Open', 'Volume',\n",
       "       '1_Day_Return', '5_Day_Return', '10_Day_Return', '20_Day_Return',\n",
       "       '50_Day_Return', '200_Day_Return', 'Best_Return_Window', 'Best_Return',\n",
       "       'close_lag1', 'close_lag2', 'close_lag3', 'close_lag4', 'close_lag5',\n",
       "       'volume_lag1', 'volume_lag2', 'volume_lag3', 'volume_lag4',\n",
       "       'volume_lag5', 'MA_10', 'MA_20', 'MA_50', 'MA_200', 'std_10', 'std_20',\n",
       "       'std_50', 'std_200', 'upper_band_10', 'lower_band_10', 'upper_band_20',\n",
       "       'lower_band_20', 'upper_band_50', 'lower_band_50', 'upper_band_200',\n",
       "       'lower_band_200', 'Golden_Cross_Short', 'Golden_Cross_Medium',\n",
       "       'Golden_Cross_Long', 'Death_Cross_Short', 'Death_Cross_Medium',\n",
       "       'Death_Cross_Long', 'ROC', 'AVG_Volume_10', 'AVG_Volume_20',\n",
       "       'AVG_Volume_50', 'AVG_Volume_200', 'Doji', 'Bullish_Engulfing',\n",
       "       'Bearish_Engulfing', 'EMA_short', 'EMA_long', 'MACD', 'Signal',\n",
       "       'MACD_Hist', 'Previous_Close', 'TR', 'ATR', 'RSI_10_Day', '10_Day_ROC',\n",
       "       'Resistance_10_Day', 'Support_10_Day', 'Resistance_20_Day',\n",
       "       'Support_20_Day', 'Resistance_50_Day', 'Support_50_Day', 'Volume_MA_10',\n",
       "       'Volume_MA_20', 'Volume_MA_50', 'OBV', 'Z-score'],\n",
       "      dtype='object')"
      ]
     },
     "execution_count": 72,
     "metadata": {},
     "output_type": "execute_result"
    }
   ],
   "source": [
    "from sklearn.model_selection import train_test_split\n",
    "from sklearn.preprocessing import MinMaxScaler, StandardScaler\n",
    "import xgboost as xgb\n",
    "from sklearn.ensemble import RandomForestClassifier\n",
    "from sklearn.linear_model import LogisticRegression\n",
    "from sklearn.metrics import accuracy_score, classification_report, confusion_matrix\n",
    "# Import Regression Models\n",
    "from sklearn.linear_model import Lasso, Ridge, ElasticNet\n",
    "# Define the features and target variable\n",
    "features = ['Volume', 'MA_10', 'MA_20', 'MA_50', 'MA_200',\n",
    "            'std_10', 'std_20', 'std_50', 'std_200', 'upper_band_10', \n",
    "            'lower_band_10', 'upper_band_20', 'lower_band_20', 'upper_band_50', \n",
    "            'lower_band_50', 'upper_band_200', 'lower_band_200', 'Golden_Cross_Short', \n",
    "            'Golden_Cross_Medium', 'Golden_Cross_Long', 'Death_Cross_Short',\n",
    "            'Death_Cross_Medium', 'Death_Cross_Long', 'ROC', 'AVG_Volume_10', \n",
    "            'AVG_Volume_20', 'AVG_Volume_50', 'AVG_Volume_200', 'Doji', 'Bullish_Engulfing',\n",
    "            'Bearish_Engulfing', 'MACD', 'Signal', 'MACD_Hist', 'TR', 'ATR', 'RSI_10_Day',\n",
    "            '10_Day_ROC', 'Resistance_10_Day', 'Support_10_Day', 'Resistance_20_Day', \n",
    "            'Support_20_Day', 'Resistance_50_Day', 'Support_50_Day', 'Volume_MA_10', \n",
    "            'Volume_MA_20', 'Volume_MA_50', 'OBV', 'Z-score']\n",
    "min_max_scaler = MinMaxScaler()\n",
    "standard_scaler = StandardScaler()\n",
    "stock_df[features] = min_max_scaler.fit_transform(stock_df[features])\n",
    "stock_df.columns\n"
   ]
  },
  {
   "cell_type": "code",
   "execution_count": 73,
   "metadata": {},
   "outputs": [
    {
     "data": {
      "text/plain": [
       "Action\n",
       "0    2210\n",
       "2     952\n",
       "1     553\n",
       "Name: count, dtype: int64"
      ]
     },
     "execution_count": 73,
     "metadata": {},
     "output_type": "execute_result"
    }
   ],
   "source": [
    "# Split the data into training and test sets\n",
    "# Create action column as target\n",
    "threshold = 2\n",
    "# stock_df['Action'] = stock_df['Best_Return'].apply(lambda x: 'Buy' if x > threshold else ('Sell' if x < -threshold else 'Hold'))\n",
    "# stock_df['Action'] = stock_df['Best_Return'].apply(lambda x: 0 if x > threshold else (1 if x < -threshold else 2))\n",
    "def determine_action(row):\n",
    "    # Buy conditions: Must meet multiple criteria for stronger Buy signal\n",
    "    if row['Close'] != 0 and (((row['Close'] - row['close_lag1'])/(row['Close'])*100) > 1 ):\n",
    "        return 2\n",
    "    elif (row['Golden_Cross_Short'] == 1 or \n",
    "        row['MACD'] > row['Signal'] or \n",
    "        50 < row['RSI_10_Day'] < 70):\n",
    "        return 0  # Buy\n",
    "    # Sell conditions: Must meet multiple criteria for stronger Sell signal\n",
    "    elif (row['Death_Cross_Short'] == 1 or \n",
    "          row['MACD'] < row['Signal'] or \n",
    "          row['RSI_10_Day'] > 80 and \n",
    "          row['Daily_Return'] < -0.01):\n",
    "        return 1  # Sell\n",
    "    else:\n",
    "        return 2  # Hold\n",
    "\n",
    "\n",
    "# Apply the function to create the 'Action' column\n",
    "stock_df['Action'] = stock_df.apply(determine_action, axis=1)\n",
    "stock_df['Action'].value_counts()\n",
    "\n"
   ]
  },
  {
   "cell_type": "code",
   "execution_count": 74,
   "metadata": {},
   "outputs": [],
   "source": [
    "X = stock_df[features]\n",
    "y = stock_df['Action']\n",
    "X_train, X_test, y_train, y_test = train_test_split(X, y, test_size=0.2, random_state=42)\n"
   ]
  },
  {
   "cell_type": "code",
   "execution_count": 75,
   "metadata": {},
   "outputs": [],
   "source": [
    "model = RandomForestClassifier(n_estimators=100, random_state=42)\n",
    "model.fit(X_train, y_train)\n",
    "y_pred = model.predict(X_test)"
   ]
  },
  {
   "cell_type": "code",
   "execution_count": 76,
   "metadata": {},
   "outputs": [],
   "source": [
    "model = xgb.XGBClassifier(n_estimators=100, random_state=42)\n",
    "model.fit(X_train, y_train)\n",
    "y_pred = model.predict(X_test)"
   ]
  },
  {
   "cell_type": "code",
   "execution_count": 77,
   "metadata": {},
   "outputs": [
    {
     "name": "stdout",
     "output_type": "stream",
     "text": [
      "('              precision    recall  f1-score   support\\n'\n",
      " '\\n'\n",
      " '           0       0.99      1.00      0.99       451\\n'\n",
      " '           1       0.98      0.97      0.98       103\\n'\n",
      " '           2       1.00      0.99      1.00       189\\n'\n",
      " '\\n'\n",
      " '    accuracy                           0.99       743\\n'\n",
      " '   macro avg       0.99      0.99      0.99       743\\n'\n",
      " 'weighted avg       0.99      0.99      0.99       743\\n')\n"
     ]
    }
   ],
   "source": [
    "# Evaluate the model \n",
    "import pprint   \n",
    "class_report = classification_report(y_test, y_pred)\n",
    "pprint.pprint(class_report)"
   ]
  },
  {
   "cell_type": "code",
   "execution_count": 78,
   "metadata": {},
   "outputs": [
    {
     "data": {
      "image/png": "[encoded data removed]",
      "text/plain": [
       "<Figure size 640x480 with 2 Axes>"
      ]
     },
     "metadata": {},
     "output_type": "display_data"
    }
   ],
   "source": [
    "from sklearn.metrics import confusion_matrix, ConfusionMatrixDisplay\n",
    "import matplotlib.pyplot as plt\n",
    "\n",
    "# Create a confusion matrix\n",
    "cm = confusion_matrix(y_test, y_pred, labels=[0, 1, 2])\n",
    "# cm = confusion_matrix(y_test, y_pred, labels=['Buy','Sell'])\n",
    "\n",
    "# Display the confusion matrix\n",
    "disp = ConfusionMatrixDisplay(confusion_matrix=cm, display_labels=['Buy', 'Sell','Hold'])\n",
    "disp.plot(cmap=plt.cm.Blues)\n",
    "plt.title('Confusion Matrix')\n",
    "plt.show()\n"
   ]
  },
  {
   "cell_type": "code",
   "execution_count": 81,
   "metadata": {},
   "outputs": [
    {
     "data": {
      "text/plain": [
       "'Sell'"
      ]
     },
     "execution_count": 81,
     "metadata": {},
     "output_type": "execute_result"
    }
   ],
   "source": [
    "import joblib\n",
    "import os\n",
    "last_day = X.iloc[3705].to_dict()\n",
    "\n",
    "def predict_action(data):\n",
    "    if type(model) == xgb.core.Booster:\n",
    "\n",
    "        data_df = pd.DataFrame([data])\n",
    "\n",
    "        # Select only the features used in training\n",
    "        data_df = data_df[features]\n",
    "\n",
    "        # Convert the DataFrame to DMatrix (required by XGBoost)\n",
    "        dmatrix = xgb.DMatrix(data_df)\n",
    "\n",
    "        # Predict using the loaded model\n",
    "        prediction = model.predict(dmatrix)[0]\n",
    "    else:\n",
    "        data_df = pd.DataFrame([data])\n",
    "        data_df = data_df[features]\n",
    "        prediction = model.predict(data_df)[0]\n",
    "    \n",
    "    if prediction == 0:\n",
    "        return 'Buy'\n",
    "    elif prediction == 1:\n",
    "        return 'Sell'\n",
    "    else:\n",
    "        return 'Hold'\n",
    "        \n",
    "\n",
    "def scale_data(data):\n",
    "    features = ['Volume', 'MA_10', 'MA_20', 'MA_50', 'MA_200', 'std_10',\n",
    "                'std_20', 'std_50', 'std_200', 'upper_band_10', 'lower_band_10', \n",
    "                'upper_band_20', 'lower_band_20', 'upper_band_50', 'lower_band_50', \n",
    "                'upper_band_200', 'lower_band_200', 'Golden_Cross_Short', 'Golden_Cross_Medium', \n",
    "                'Golden_Cross_Long', 'Death_Cross_Short', 'Death_Cross_Medium', 'Death_Cross_Long', \n",
    "                'ROC', 'AVG_Volume_10', 'AVG_Volume_20', 'AVG_Volume_50', 'AVG_Volume_200', 'Doji', \n",
    "                'Bullish_Engulfing', 'Bearish_Engulfing', 'MACD', 'Signal', 'MACD_Hist', 'TR', 'ATR', \n",
    "                'RSI_10_Day', '10_Day_ROC', 'Resistance_10_Day', 'Support_10_Day', 'Resistance_20_Day', \n",
    "                'Support_20_Day', 'Resistance_50_Day', 'Support_50_Day', 'Volume_MA_10', 'Volume_MA_20', \n",
    "                'Volume_MA_50', 'OBV', 'Z-score']\n",
    "    min_max_scaler = MinMaxScaler()\n",
    "    stock_df[features] = min_max_scaler.fit_transform(stock_df[features])\n",
    "    return stock_df[features]\n",
    "data = scale_data(stock_df)\n",
    "last_day = data.iloc[3714].to_dict()\n",
    "predict_action(last_day)"
   ]
  },
  {
   "cell_type": "code",
   "execution_count": 82,
   "metadata": {},
   "outputs": [
    {
     "name": "stdout",
     "output_type": "stream",
     "text": [
      "XGBoost Model\n",
      "<class 'xgboost.sklearn.XGBClassifier'>\n"
     ]
    }
   ],
   "source": [
    "model0 = joblib.load('models/INTC_model.pkl')\n",
    "if type(model0) == xgb.sklearn.XGBClassifier:\n",
    "    print('XGBoost Model')\n",
    "    print(type(model0)) \n"
   ]
  },
  {
   "cell_type": "code",
   "execution_count": 83,
   "metadata": {},
   "outputs": [
    {
     "name": "stdout",
     "output_type": "stream",
     "text": [
      "<class 'xgboost.sklearn.XGBClassifier'>\n"
     ]
    }
   ],
   "source": [
    "if type(model) == xgb.core.Booster:\n",
    "    print('XGBoost Model')\n",
    "print(type(model)) \n"
   ]
  },
  {
   "cell_type": "code",
   "execution_count": 85,
   "metadata": {},
   "outputs": [
    {
     "name": "stdout",
     "output_type": "stream",
     "text": [
      "Day 0: Bought 1 share at 193.1199951171875, Cash left: 9806.880004882812\n",
      "Day 1: Bought 1 share at 207.1499938964844, Cash left: 9599.730010986328\n",
      "Day 2: Bought 1 share at 213.07000732421875, Cash left: 9386.66000366211\n",
      "Day 3: Bought 1 share at 214.2400054931641, Cash left: 9172.419998168945\n",
      "Day 4: Bought 1 share at 212.4900054931641, Cash left: 8959.929992675781\n",
      "Day 5: Bought 1 share at 216.6699981689453, Cash left: 8743.259994506836\n",
      "Day 6: Bought 1 share at 214.2899932861328, Cash left: 8528.970001220703\n",
      "Day 8: Bought 1 share at 207.4900054931641, Cash left: 8321.479995727539\n",
      "Day 9: Bought 1 share at 208.13999938964844, Cash left: 8113.339996337891\n",
      "Day 11: Bought 1 share at 213.25, Cash left: 7900.089996337891\n",
      "Day 12: Bought 1 share at 214.1000061035156, Cash left: 7685.989990234375\n",
      "Day 13: Bought 1 share at 210.6199951171875, Cash left: 7475.3699951171875\n",
      "Day 16: Bought 1 share at 221.5500030517578, Cash left: 7253.81999206543\n",
      "Day 17: Bought 1 share at 226.33999633789065, Cash left: 7027.479995727539\n",
      "Day 18: Bought 1 share at 227.82000732421875, Cash left: 6799.65998840332\n"
     ]
    },
    {
     "name": "stderr",
     "output_type": "stream",
     "text": [
      "/var/folders/75/l95mxw1j5w9ddljb82_6_m_40000gn/T/ipykernel_72466/3083823532.py:58: FutureWarning: The behavior of DataFrame concatenation with empty or all-NA entries is deprecated. In a future version, this will no longer exclude empty or all-NA columns when determining the result dtypes. To retain the old behavior, exclude the relevant entries before the concat operation.\n",
      "  modelDecisionDf = pd.concat([modelDecisionDf, new_row], ignore_index=True)\n"
     ]
    },
    {
     "name": "stdout",
     "output_type": "stream",
     "text": [
      "Day 20: Bought 1 share at 232.97999572753903, Cash left: 6566.679992675781\n",
      "Day 22: Bought 1 share at 230.5399932861328, Cash left: 6336.139999389648\n",
      "Day 24: Bought 1 share at 234.82000732421875, Cash left: 6101.31999206543\n",
      "Day 26: Bought 1 share at 224.17999267578125, Cash left: 5877.139999389648\n",
      "Day 28: Bought 1 share at 223.9600067138672, Cash left: 5653.179992675781\n",
      "Day 30: Bought 1 share at 218.5399932861328, Cash left: 5434.639999389648\n",
      "Day 31: Bought 1 share at 217.4900054931641, Cash left: 5217.149993896484\n",
      "Day 32: Bought 1 share at 217.9600067138672, Cash left: 4999.189987182617\n",
      "Day 33: Bought 1 share at 218.2400054931641, Cash left: 4780.949981689453\n",
      "Day 34: Bought 1 share at 218.8000030517578, Cash left: 4562.149978637695\n",
      "Day 36: Bought 1 share at 218.36000061035156, Cash left: 4343.789978027344\n",
      "Day 39: Bought 1 share at 207.22999572753903, Cash left: 4136.559982299805\n",
      "Day 40: Bought 1 share at 209.82000732421875, Cash left: 3926.739974975586\n",
      "Day 41: Bought 1 share at 213.30999755859375, Cash left: 3713.429977416992\n",
      "Day 43: Bought 1 share at 217.52999877929688, Cash left: 3495.8999786376953\n",
      "Day 45: Bought 1 share at 221.72000122070312, Cash left: 3274.179977416992\n",
      "Day 46: Bought 1 share at 224.72000122070312, Cash left: 3049.459976196289\n",
      "Day 47: Bought 1 share at 226.0500030517578, Cash left: 2823.4099731445312\n",
      "Day 48: Bought 1 share at 225.88999938964844, Cash left: 2597.519973754883\n",
      "Day 49: Bought 1 share at 226.5099945068359, Cash left: 2371.009979248047\n",
      "Day 50: Bought 1 share at 226.3999938964844, Cash left: 2144.6099853515625\n",
      "Day 51: Bought 1 share at 224.52999877929688, Cash left: 1920.0799865722656\n",
      "Day 52: Bought 1 share at 226.83999633789065, Cash left: 1693.239990234375\n",
      "Day 55: Bought 1 share at 226.4900054931641, Cash left: 1466.749984741211\n",
      "Day 56: Bought 1 share at 229.7899932861328, Cash left: 1236.9599914550781\n",
      "Day 58: Bought 1 share at 222.77000427246097, Cash left: 1014.1899871826172\n",
      "Day 60: Bought 1 share at 222.3800048828125, Cash left: 791.8099822998047\n",
      "Day 61: Bought 1 share at 220.82000732421875, Cash left: 570.9899749755859\n",
      "Day 63: Bought 1 share at 220.11000061035156, Cash left: 350.8799743652344\n",
      "Day 64: Bought 1 share at 222.66000366210935, Cash left: 128.21997070312503\n",
      "Day 65: Bought 0.0 shares at 222.77000427246097, Cash left: 0\n",
      "Day 66: Bought 0.0 shares at 222.5, Cash left: 0\n",
      "Day 67: Bought 0.0 shares at 216.32000732421875, Cash left: 0\n",
      "Day 68: Bought 0.0 shares at 216.7899932861328, Cash left: 0\n",
      "Day 69: Cash injected: 0, Cash: 0.0\n",
      "Total cash invested: 10000.0\n",
      "Stock AAPL\n",
      "Final Portfolio Value: 10103.648462752153\n",
      "Cash: 0.0, Shares held: 45.5755710743997\n"
     ]
    },
    {
     "data": {
      "text/html": [
       "<div>\n",
       "<style scoped>\n",
       "    .dataframe tbody tr th:only-of-type {\n",
       "        vertical-align: middle;\n",
       "    }\n",
       "\n",
       "    .dataframe tbody tr th {\n",
       "        vertical-align: top;\n",
       "    }\n",
       "\n",
       "    .dataframe thead th {\n",
       "        text-align: right;\n",
       "    }\n",
       "</style>\n",
       "<table border=\"1\" class=\"dataframe\">\n",
       "  <thead>\n",
       "    <tr style=\"text-align: right;\">\n",
       "      <th></th>\n",
       "      <th>Stock Name</th>\n",
       "      <th>Day</th>\n",
       "      <th>Action</th>\n",
       "      <th>Cash</th>\n",
       "      <th>Shares Held</th>\n",
       "      <th>Portfolio Value</th>\n",
       "      <th>Stock Price</th>\n",
       "    </tr>\n",
       "  </thead>\n",
       "  <tbody>\n",
       "    <tr>\n",
       "      <th>0</th>\n",
       "      <td>INTC</td>\n",
       "      <td>0</td>\n",
       "      <td>Buy</td>\n",
       "      <td>9806.880005</td>\n",
       "      <td>1</td>\n",
       "      <td>10000.000000</td>\n",
       "      <td>193.119995</td>\n",
       "    </tr>\n",
       "    <tr>\n",
       "      <th>1</th>\n",
       "      <td>INTC</td>\n",
       "      <td>1</td>\n",
       "      <td>Buy</td>\n",
       "      <td>9599.730011</td>\n",
       "      <td>2</td>\n",
       "      <td>10014.029999</td>\n",
       "      <td>207.149994</td>\n",
       "    </tr>\n",
       "    <tr>\n",
       "      <th>2</th>\n",
       "      <td>INTC</td>\n",
       "      <td>2</td>\n",
       "      <td>Buy</td>\n",
       "      <td>9386.660004</td>\n",
       "      <td>3</td>\n",
       "      <td>10025.870026</td>\n",
       "      <td>213.070007</td>\n",
       "    </tr>\n",
       "    <tr>\n",
       "      <th>3</th>\n",
       "      <td>INTC</td>\n",
       "      <td>3</td>\n",
       "      <td>Buy</td>\n",
       "      <td>9172.419998</td>\n",
       "      <td>4</td>\n",
       "      <td>10029.380020</td>\n",
       "      <td>214.240005</td>\n",
       "    </tr>\n",
       "    <tr>\n",
       "      <th>4</th>\n",
       "      <td>INTC</td>\n",
       "      <td>4</td>\n",
       "      <td>Buy</td>\n",
       "      <td>8959.929993</td>\n",
       "      <td>5</td>\n",
       "      <td>10022.380020</td>\n",
       "      <td>212.490005</td>\n",
       "    </tr>\n",
       "    <tr>\n",
       "      <th>...</th>\n",
       "      <td>...</td>\n",
       "      <td>...</td>\n",
       "      <td>...</td>\n",
       "      <td>...</td>\n",
       "      <td>...</td>\n",
       "      <td>...</td>\n",
       "      <td>...</td>\n",
       "    </tr>\n",
       "    <tr>\n",
       "      <th>64</th>\n",
       "      <td>INTC</td>\n",
       "      <td>64</td>\n",
       "      <td>Buy</td>\n",
       "      <td>128.219971</td>\n",
       "      <td>45</td>\n",
       "      <td>10147.920135</td>\n",
       "      <td>222.660004</td>\n",
       "    </tr>\n",
       "    <tr>\n",
       "      <th>65</th>\n",
       "      <td>INTC</td>\n",
       "      <td>65</td>\n",
       "      <td>Buy</td>\n",
       "      <td>0.000000</td>\n",
       "      <td>45.575571</td>\n",
       "      <td>10152.870163</td>\n",
       "      <td>222.770004</td>\n",
       "    </tr>\n",
       "    <tr>\n",
       "      <th>66</th>\n",
       "      <td>INTC</td>\n",
       "      <td>66</td>\n",
       "      <td>Buy</td>\n",
       "      <td>0.000000</td>\n",
       "      <td>45.575571</td>\n",
       "      <td>10140.564564</td>\n",
       "      <td>222.500000</td>\n",
       "    </tr>\n",
       "    <tr>\n",
       "      <th>67</th>\n",
       "      <td>INTC</td>\n",
       "      <td>67</td>\n",
       "      <td>Buy</td>\n",
       "      <td>0.000000</td>\n",
       "      <td>45.575571</td>\n",
       "      <td>9858.907869</td>\n",
       "      <td>216.320007</td>\n",
       "    </tr>\n",
       "    <tr>\n",
       "      <th>68</th>\n",
       "      <td>INTC</td>\n",
       "      <td>68</td>\n",
       "      <td>Buy</td>\n",
       "      <td>0.000000</td>\n",
       "      <td>45.575571</td>\n",
       "      <td>9880.327747</td>\n",
       "      <td>216.789993</td>\n",
       "    </tr>\n",
       "  </tbody>\n",
       "</table>\n",
       "<p>69 rows × 7 columns</p>\n",
       "</div>"
      ],
      "text/plain": [
       "   Stock Name Day Action         Cash Shares Held  Portfolio Value  \\\n",
       "0        INTC   0    Buy  9806.880005           1     10000.000000   \n",
       "1        INTC   1    Buy  9599.730011           2     10014.029999   \n",
       "2        INTC   2    Buy  9386.660004           3     10025.870026   \n",
       "3        INTC   3    Buy  9172.419998           4     10029.380020   \n",
       "4        INTC   4    Buy  8959.929993           5     10022.380020   \n",
       "..        ...  ..    ...          ...         ...              ...   \n",
       "64       INTC  64    Buy   128.219971          45     10147.920135   \n",
       "65       INTC  65    Buy     0.000000   45.575571     10152.870163   \n",
       "66       INTC  66    Buy     0.000000   45.575571     10140.564564   \n",
       "67       INTC  67    Buy     0.000000   45.575571      9858.907869   \n",
       "68       INTC  68    Buy     0.000000   45.575571      9880.327747   \n",
       "\n",
       "    Stock Price  \n",
       "0    193.119995  \n",
       "1    207.149994  \n",
       "2    213.070007  \n",
       "3    214.240005  \n",
       "4    212.490005  \n",
       "..          ...  \n",
       "64   222.660004  \n",
       "65   222.770004  \n",
       "66   222.500000  \n",
       "67   216.320007  \n",
       "68   216.789993  \n",
       "\n",
       "[69 rows x 7 columns]"
      ]
     },
     "execution_count": 85,
     "metadata": {},
     "output_type": "execute_result"
    }
   ],
   "source": [
    "def stock_market_simulation(model, initial_cash, days, stock,stock_name):\n",
    "    ## Add Taxes and Fees\n",
    "    cash = initial_cash\n",
    "    invested = cash\n",
    "    shares_held = 0\n",
    "    portfolio_value = []\n",
    "    scaled = scale_data(stock)\n",
    "    modelDecisionDf = pd.DataFrame(columns=['Stock Name','Day', 'Action', 'Cash', 'Shares Held', 'Portfolio Value'])\n",
    "    \n",
    "    days = min(days, len(stock))\n",
    "    for i in range(days):\n",
    "        stock_price = stock['Close'].iloc[i]\n",
    "        strategy = predict_action(scaled.iloc[i].to_dict())\n",
    "        if strategy == 'Buy' and cash >= stock_price:\n",
    "            # Buy one share if cash is sufficient\n",
    "            cash -= stock_price\n",
    "            shares_held += 1\n",
    "            print(f\"Day {i}: Bought 1 share at {stock_price}, Cash left: {cash}\")\n",
    "        \n",
    "        elif strategy == 'Buy' and cash < stock_price:\n",
    "            shares_held += cash / stock_price\n",
    "            cash = 0\n",
    "            print(f\"Day {i}: Bought {cash / stock_price} shares at {stock_price}, Cash left: {cash}\")\n",
    "\n",
    "            \n",
    "        elif strategy == 'Sell' and shares_held > 0:\n",
    "            # Sell one share if we hold any\n",
    "            cash += stock_price\n",
    "            shares_held -= 1\n",
    "            print(f\"Day {i}: Sold 1 share at {stock_price}, Cash: {cash}\")\n",
    "        \n",
    "        \n",
    "        \n",
    "        elif cash == 0:\n",
    "            injection = input(f'Your current portfolio value is {portfolio_value[i-1]}. The stock price is {stock_price}. Enter the amount of cash you want to inject: ')\n",
    "            if injection:\n",
    "                cash += float(injection)\n",
    "                invested += float(injection)\n",
    "                print(f\"Day {i}: Cash injected: {injection}, Cash: {cash}\")\n",
    "                if cash < stock_price:\n",
    "                    break\n",
    "\n",
    "\n",
    "                     \n",
    "        # Calculate the total portfolio value (cash + stock holdings)\n",
    "        portfolio_value_at_time = cash + (shares_held * stock_price)\n",
    "        portfolio_value.append(portfolio_value_at_time)\n",
    "\n",
    "        new_row = pd.DataFrame({\n",
    "            'Stock Name': [stock_name],\n",
    "            'Day': [i],\n",
    "            'Action': [strategy],\n",
    "            'Stock Price': [stock_price],\n",
    "            'Cash': [cash],\n",
    "            'Shares Held': [shares_held],\n",
    "            'Portfolio Value': [portfolio_value_at_time]\n",
    "        })\n",
    "        modelDecisionDf = pd.concat([modelDecisionDf, new_row], ignore_index=True)\n",
    "\n",
    "    # Final results\n",
    "    final_portfolio_value = cash + (shares_held * stock['Close'].iloc[-1])\n",
    "    print(f'Total cash invested: {invested}')   \n",
    "    print(f'Stock {stock[\"Symbol\"].iloc[0]}')\n",
    "    print(f\"Final Portfolio Value: {final_portfolio_value}\")\n",
    "    print(f\"Cash: {cash}, Shares held: {shares_held}\")\n",
    "    return modelDecisionDf\n",
    "    # return portfolio_value, final_portfolio_value\n",
    "\n",
    "\n",
    "model0 = xgb.Booster()  # Initialize the Booster object\n",
    "model0.load_model('models/all_stocks_incremental_model.pkl') \n",
    "\n",
    "start_day = stock_df[stock_df['Date'].dt.date >= pd.to_datetime('2024-06-08').date()]\n",
    "stock_market_simulation(model0, 10000, 100, start_day,'INTC')"
   ]
  },
  {
   "cell_type": "code",
   "execution_count": 87,
   "metadata": {},
   "outputs": [
    {
     "data": {
      "text/html": [
       "<div>\n",
       "<style scoped>\n",
       "    .dataframe tbody tr th:only-of-type {\n",
       "        vertical-align: middle;\n",
       "    }\n",
       "\n",
       "    .dataframe tbody tr th {\n",
       "        vertical-align: top;\n",
       "    }\n",
       "\n",
       "    .dataframe thead th {\n",
       "        text-align: right;\n",
       "    }\n",
       "</style>\n",
       "<table border=\"1\" class=\"dataframe\">\n",
       "  <thead>\n",
       "    <tr style=\"text-align: right;\">\n",
       "      <th></th>\n",
       "      <th>Date</th>\n",
       "      <th>Symbol</th>\n",
       "      <th>Adj Close</th>\n",
       "      <th>Close</th>\n",
       "      <th>High</th>\n",
       "      <th>Low</th>\n",
       "      <th>Open</th>\n",
       "      <th>Volume</th>\n",
       "    </tr>\n",
       "  </thead>\n",
       "  <tbody>\n",
       "    <tr>\n",
       "      <th>0</th>\n",
       "      <td>2010-01-04</td>\n",
       "      <td>INTC</td>\n",
       "      <td>14.773483</td>\n",
       "      <td>20.879999</td>\n",
       "      <td>21.030001</td>\n",
       "      <td>20.730000</td>\n",
       "      <td>20.790001</td>\n",
       "      <td>47800900.0</td>\n",
       "    </tr>\n",
       "    <tr>\n",
       "      <th>1</th>\n",
       "      <td>2010-01-05</td>\n",
       "      <td>INTC</td>\n",
       "      <td>14.766404</td>\n",
       "      <td>20.870001</td>\n",
       "      <td>20.990000</td>\n",
       "      <td>20.600000</td>\n",
       "      <td>20.940001</td>\n",
       "      <td>52357700.0</td>\n",
       "    </tr>\n",
       "    <tr>\n",
       "      <th>2</th>\n",
       "      <td>2010-01-06</td>\n",
       "      <td>INTC</td>\n",
       "      <td>14.716876</td>\n",
       "      <td>20.799999</td>\n",
       "      <td>20.930000</td>\n",
       "      <td>20.670000</td>\n",
       "      <td>20.809999</td>\n",
       "      <td>40037400.0</td>\n",
       "    </tr>\n",
       "    <tr>\n",
       "      <th>3</th>\n",
       "      <td>2010-01-07</td>\n",
       "      <td>INTC</td>\n",
       "      <td>14.575374</td>\n",
       "      <td>20.600000</td>\n",
       "      <td>20.760000</td>\n",
       "      <td>20.340000</td>\n",
       "      <td>20.730000</td>\n",
       "      <td>54041500.0</td>\n",
       "    </tr>\n",
       "    <tr>\n",
       "      <th>4</th>\n",
       "      <td>2010-01-08</td>\n",
       "      <td>INTC</td>\n",
       "      <td>14.738104</td>\n",
       "      <td>20.830000</td>\n",
       "      <td>20.889999</td>\n",
       "      <td>20.400000</td>\n",
       "      <td>20.540001</td>\n",
       "      <td>48234700.0</td>\n",
       "    </tr>\n",
       "    <tr>\n",
       "      <th>...</th>\n",
       "      <td>...</td>\n",
       "      <td>...</td>\n",
       "      <td>...</td>\n",
       "      <td>...</td>\n",
       "      <td>...</td>\n",
       "      <td>...</td>\n",
       "      <td>...</td>\n",
       "      <td>...</td>\n",
       "    </tr>\n",
       "    <tr>\n",
       "      <th>3711</th>\n",
       "      <td>2024-10-02</td>\n",
       "      <td>INTC</td>\n",
       "      <td>22.389999</td>\n",
       "      <td>22.389999</td>\n",
       "      <td>23.070000</td>\n",
       "      <td>22.350000</td>\n",
       "      <td>22.670000</td>\n",
       "      <td>59033900.0</td>\n",
       "    </tr>\n",
       "    <tr>\n",
       "      <th>3712</th>\n",
       "      <td>2024-10-03</td>\n",
       "      <td>INTC</td>\n",
       "      <td>22.260000</td>\n",
       "      <td>22.260000</td>\n",
       "      <td>22.730000</td>\n",
       "      <td>21.650000</td>\n",
       "      <td>22.139999</td>\n",
       "      <td>49565900.0</td>\n",
       "    </tr>\n",
       "    <tr>\n",
       "      <th>3713</th>\n",
       "      <td>2024-10-04</td>\n",
       "      <td>INTC</td>\n",
       "      <td>22.590000</td>\n",
       "      <td>22.590000</td>\n",
       "      <td>22.910000</td>\n",
       "      <td>22.299999</td>\n",
       "      <td>22.700001</td>\n",
       "      <td>49845500.0</td>\n",
       "    </tr>\n",
       "    <tr>\n",
       "      <th>3714</th>\n",
       "      <td>2024-10-07</td>\n",
       "      <td>INTC</td>\n",
       "      <td>22.379999</td>\n",
       "      <td>22.379999</td>\n",
       "      <td>22.639999</td>\n",
       "      <td>22.020901</td>\n",
       "      <td>22.379999</td>\n",
       "      <td>54558269.0</td>\n",
       "    </tr>\n",
       "    <tr>\n",
       "      <th>3715</th>\n",
       "      <td>2024-10-08</td>\n",
       "      <td>INTC</td>\n",
       "      <td>0.000000</td>\n",
       "      <td>23.320000</td>\n",
       "      <td>23.420000</td>\n",
       "      <td>22.049999</td>\n",
       "      <td>22.250000</td>\n",
       "      <td>58480600.0</td>\n",
       "    </tr>\n",
       "  </tbody>\n",
       "</table>\n",
       "<p>3716 rows × 8 columns</p>\n",
       "</div>"
      ],
      "text/plain": [
       "            Date Symbol  Adj Close      Close       High        Low  \\\n",
       "0     2010-01-04   INTC  14.773483  20.879999  21.030001  20.730000   \n",
       "1     2010-01-05   INTC  14.766404  20.870001  20.990000  20.600000   \n",
       "2     2010-01-06   INTC  14.716876  20.799999  20.930000  20.670000   \n",
       "3     2010-01-07   INTC  14.575374  20.600000  20.760000  20.340000   \n",
       "4     2010-01-08   INTC  14.738104  20.830000  20.889999  20.400000   \n",
       "...          ...    ...        ...        ...        ...        ...   \n",
       "3711  2024-10-02   INTC  22.389999  22.389999  23.070000  22.350000   \n",
       "3712  2024-10-03   INTC  22.260000  22.260000  22.730000  21.650000   \n",
       "3713  2024-10-04   INTC  22.590000  22.590000  22.910000  22.299999   \n",
       "3714  2024-10-07   INTC  22.379999  22.379999  22.639999  22.020901   \n",
       "3715  2024-10-08   INTC   0.000000  23.320000  23.420000  22.049999   \n",
       "\n",
       "           Open      Volume  \n",
       "0     20.790001  47800900.0  \n",
       "1     20.940001  52357700.0  \n",
       "2     20.809999  40037400.0  \n",
       "3     20.730000  54041500.0  \n",
       "4     20.540001  48234700.0  \n",
       "...         ...         ...  \n",
       "3711  22.670000  59033900.0  \n",
       "3712  22.139999  49565900.0  \n",
       "3713  22.700001  49845500.0  \n",
       "3714  22.379999  54558269.0  \n",
       "3715  22.250000  58480600.0  \n",
       "\n",
       "[3716 rows x 8 columns]"
      ]
     },
     "execution_count": 87,
     "metadata": {},
     "output_type": "execute_result"
    }
   ],
   "source": [
    "def get_stock_data(symbol):\n",
    "    stock_df = pd.read_csv('data/sp500_stocks.csv')\n",
    "    stock_df = stock_df[stock_df['Symbol'] == symbol]\n",
    "    stock = yf.Ticker(symbol)\n",
    "    data = stock.history(period='1d', interval='1d')  \n",
    "\n",
    "\n",
    "    if not data.empty:\n",
    "        latest_data = data.iloc[-1]\n",
    "        time = latest_data.name\n",
    "        open_price = latest_data['Open']\n",
    "        high = latest_data['High']\n",
    "        low = latest_data['Low']\n",
    "        close = latest_data['Close']\n",
    "        volume = latest_data['Volume']\n",
    "        new_row = pd.DataFrame({\n",
    "            'Symbol': [symbol],\n",
    "            'Date': [datetime.datetime.strftime(time, '%Y-%m-%d')],\n",
    "            'Open': [open_price],\n",
    "            'High': [high],\n",
    "            'Low': [low],\n",
    "            'Close': [close],\n",
    "            'Volume': [volume]\n",
    "        })\n",
    "        stock_df = pd.concat([stock_df, new_row], ignore_index=True).fillna(0)\n",
    "        return stock_df\n",
    "    \n",
    "stock = get_stock_data('INTC')\n",
    "stock"
   ]
  },
  {
   "cell_type": "code",
   "execution_count": 91,
   "metadata": {},
   "outputs": [
    {
     "name": "stdout",
     "output_type": "stream",
     "text": [
      "Loading data for AAPL ...\n",
      "Adding columns for AAPL...\n"
     ]
    },
    {
     "name": "stderr",
     "output_type": "stream",
     "text": [
      "/Users/eduardobenjamin/Desktop/Repos/MachineLearningProjects/Stock-Market-Analysis+Model/SimulateDay.py:88: FutureWarning: The behavior of DataFrame.idxmax with all-NA values, or any-NA and skipna=False, is deprecated. In a future version this will raise ValueError\n",
      "  stock_df['Best_Return_Window'] = stock_df[['1_Day_Return', '5_Day_Return', '10_Day_Return','20_Day_Return', '50_Day_Return', '200_Day_Return']].idxmax(axis=1)\n"
     ]
    },
    {
     "name": "stdout",
     "output_type": "stream",
     "text": [
      "Training model for AAPL...\n",
      "Saving model for AAPL...\n",
      "Loading data for MSFT ...\n",
      "Adding columns for MSFT...\n"
     ]
    },
    {
     "name": "stderr",
     "output_type": "stream",
     "text": [
      "/Users/eduardobenjamin/Desktop/Repos/MachineLearningProjects/Stock-Market-Analysis+Model/SimulateDay.py:88: FutureWarning: The behavior of DataFrame.idxmax with all-NA values, or any-NA and skipna=False, is deprecated. In a future version this will raise ValueError\n",
      "  stock_df['Best_Return_Window'] = stock_df[['1_Day_Return', '5_Day_Return', '10_Day_Return','20_Day_Return', '50_Day_Return', '200_Day_Return']].idxmax(axis=1)\n"
     ]
    },
    {
     "name": "stdout",
     "output_type": "stream",
     "text": [
      "Training model for MSFT...\n",
      "Saving model for MSFT...\n",
      "Loading data for NVDA ...\n",
      "Adding columns for NVDA...\n"
     ]
    },
    {
     "name": "stderr",
     "output_type": "stream",
     "text": [
      "/Users/eduardobenjamin/Desktop/Repos/MachineLearningProjects/Stock-Market-Analysis+Model/SimulateDay.py:88: FutureWarning: The behavior of DataFrame.idxmax with all-NA values, or any-NA and skipna=False, is deprecated. In a future version this will raise ValueError\n",
      "  stock_df['Best_Return_Window'] = stock_df[['1_Day_Return', '5_Day_Return', '10_Day_Return','20_Day_Return', '50_Day_Return', '200_Day_Return']].idxmax(axis=1)\n"
     ]
    },
    {
     "name": "stdout",
     "output_type": "stream",
     "text": [
      "Training model for NVDA...\n",
      "Saving model for NVDA...\n",
      "Loading data for AMZN ...\n",
      "Adding columns for AMZN...\n"
     ]
    },
    {
     "name": "stderr",
     "output_type": "stream",
     "text": [
      "/Users/eduardobenjamin/Desktop/Repos/MachineLearningProjects/Stock-Market-Analysis+Model/SimulateDay.py:88: FutureWarning: The behavior of DataFrame.idxmax with all-NA values, or any-NA and skipna=False, is deprecated. In a future version this will raise ValueError\n",
      "  stock_df['Best_Return_Window'] = stock_df[['1_Day_Return', '5_Day_Return', '10_Day_Return','20_Day_Return', '50_Day_Return', '200_Day_Return']].idxmax(axis=1)\n"
     ]
    },
    {
     "name": "stdout",
     "output_type": "stream",
     "text": [
      "Training model for AMZN...\n",
      "Saving model for AMZN...\n",
      "Loading data for GOOG ...\n",
      "Adding columns for GOOG...\n"
     ]
    },
    {
     "name": "stderr",
     "output_type": "stream",
     "text": [
      "/Users/eduardobenjamin/Desktop/Repos/MachineLearningProjects/Stock-Market-Analysis+Model/SimulateDay.py:88: FutureWarning: The behavior of DataFrame.idxmax with all-NA values, or any-NA and skipna=False, is deprecated. In a future version this will raise ValueError\n",
      "  stock_df['Best_Return_Window'] = stock_df[['1_Day_Return', '5_Day_Return', '10_Day_Return','20_Day_Return', '50_Day_Return', '200_Day_Return']].idxmax(axis=1)\n"
     ]
    },
    {
     "name": "stdout",
     "output_type": "stream",
     "text": [
      "Training model for GOOG...\n",
      "Saving model for GOOG...\n",
      "Loading data for GOOGL ...\n",
      "Adding columns for GOOGL...\n"
     ]
    },
    {
     "name": "stderr",
     "output_type": "stream",
     "text": [
      "/Users/eduardobenjamin/Desktop/Repos/MachineLearningProjects/Stock-Market-Analysis+Model/SimulateDay.py:88: FutureWarning: The behavior of DataFrame.idxmax with all-NA values, or any-NA and skipna=False, is deprecated. In a future version this will raise ValueError\n",
      "  stock_df['Best_Return_Window'] = stock_df[['1_Day_Return', '5_Day_Return', '10_Day_Return','20_Day_Return', '50_Day_Return', '200_Day_Return']].idxmax(axis=1)\n"
     ]
    },
    {
     "name": "stdout",
     "output_type": "stream",
     "text": [
      "Training model for GOOGL...\n",
      "Saving model for GOOGL...\n",
      "Loading data for META ...\n",
      "Adding columns for META...\n"
     ]
    },
    {
     "name": "stderr",
     "output_type": "stream",
     "text": [
      "/Users/eduardobenjamin/Desktop/Repos/MachineLearningProjects/Stock-Market-Analysis+Model/SimulateDay.py:88: FutureWarning: The behavior of DataFrame.idxmax with all-NA values, or any-NA and skipna=False, is deprecated. In a future version this will raise ValueError\n",
      "  stock_df['Best_Return_Window'] = stock_df[['1_Day_Return', '5_Day_Return', '10_Day_Return','20_Day_Return', '50_Day_Return', '200_Day_Return']].idxmax(axis=1)\n"
     ]
    },
    {
     "name": "stdout",
     "output_type": "stream",
     "text": [
      "Training model for META...\n",
      "Saving model for META...\n",
      "Loading data for BRK-B ...\n",
      "Adding columns for BRK-B...\n"
     ]
    },
    {
     "name": "stderr",
     "output_type": "stream",
     "text": [
      "/Users/eduardobenjamin/Desktop/Repos/MachineLearningProjects/Stock-Market-Analysis+Model/SimulateDay.py:88: FutureWarning: The behavior of DataFrame.idxmax with all-NA values, or any-NA and skipna=False, is deprecated. In a future version this will raise ValueError\n",
      "  stock_df['Best_Return_Window'] = stock_df[['1_Day_Return', '5_Day_Return', '10_Day_Return','20_Day_Return', '50_Day_Return', '200_Day_Return']].idxmax(axis=1)\n"
     ]
    },
    {
     "name": "stdout",
     "output_type": "stream",
     "text": [
      "Training model for BRK-B...\n",
      "Saving model for BRK-B...\n",
      "Loading data for LLY ...\n",
      "Adding columns for LLY...\n"
     ]
    },
    {
     "name": "stderr",
     "output_type": "stream",
     "text": [
      "/Users/eduardobenjamin/Desktop/Repos/MachineLearningProjects/Stock-Market-Analysis+Model/SimulateDay.py:88: FutureWarning: The behavior of DataFrame.idxmax with all-NA values, or any-NA and skipna=False, is deprecated. In a future version this will raise ValueError\n",
      "  stock_df['Best_Return_Window'] = stock_df[['1_Day_Return', '5_Day_Return', '10_Day_Return','20_Day_Return', '50_Day_Return', '200_Day_Return']].idxmax(axis=1)\n"
     ]
    },
    {
     "name": "stdout",
     "output_type": "stream",
     "text": [
      "Training model for LLY...\n",
      "Saving model for LLY...\n",
      "Loading data for AVGO ...\n",
      "Adding columns for AVGO...\n"
     ]
    },
    {
     "name": "stderr",
     "output_type": "stream",
     "text": [
      "/Users/eduardobenjamin/Desktop/Repos/MachineLearningProjects/Stock-Market-Analysis+Model/SimulateDay.py:88: FutureWarning: The behavior of DataFrame.idxmax with all-NA values, or any-NA and skipna=False, is deprecated. In a future version this will raise ValueError\n",
      "  stock_df['Best_Return_Window'] = stock_df[['1_Day_Return', '5_Day_Return', '10_Day_Return','20_Day_Return', '50_Day_Return', '200_Day_Return']].idxmax(axis=1)\n"
     ]
    },
    {
     "name": "stdout",
     "output_type": "stream",
     "text": [
      "Training model for AVGO...\n",
      "Saving model for AVGO...\n",
      "Loading data for TSLA ...\n",
      "Adding columns for TSLA...\n"
     ]
    },
    {
     "name": "stderr",
     "output_type": "stream",
     "text": [
      "/Users/eduardobenjamin/Desktop/Repos/MachineLearningProjects/Stock-Market-Analysis+Model/SimulateDay.py:88: FutureWarning: The behavior of DataFrame.idxmax with all-NA values, or any-NA and skipna=False, is deprecated. In a future version this will raise ValueError\n",
      "  stock_df['Best_Return_Window'] = stock_df[['1_Day_Return', '5_Day_Return', '10_Day_Return','20_Day_Return', '50_Day_Return', '200_Day_Return']].idxmax(axis=1)\n"
     ]
    },
    {
     "name": "stdout",
     "output_type": "stream",
     "text": [
      "Training model for TSLA...\n",
      "Saving model for TSLA...\n",
      "Loading data for WMT ...\n",
      "Adding columns for WMT...\n"
     ]
    },
    {
     "name": "stderr",
     "output_type": "stream",
     "text": [
      "/Users/eduardobenjamin/Desktop/Repos/MachineLearningProjects/Stock-Market-Analysis+Model/SimulateDay.py:88: FutureWarning: The behavior of DataFrame.idxmax with all-NA values, or any-NA and skipna=False, is deprecated. In a future version this will raise ValueError\n",
      "  stock_df['Best_Return_Window'] = stock_df[['1_Day_Return', '5_Day_Return', '10_Day_Return','20_Day_Return', '50_Day_Return', '200_Day_Return']].idxmax(axis=1)\n"
     ]
    },
    {
     "name": "stdout",
     "output_type": "stream",
     "text": [
      "Training model for WMT...\n",
      "Saving model for WMT...\n",
      "Loading data for JPM ...\n",
      "Adding columns for JPM...\n"
     ]
    },
    {
     "name": "stderr",
     "output_type": "stream",
     "text": [
      "/Users/eduardobenjamin/Desktop/Repos/MachineLearningProjects/Stock-Market-Analysis+Model/SimulateDay.py:88: FutureWarning: The behavior of DataFrame.idxmax with all-NA values, or any-NA and skipna=False, is deprecated. In a future version this will raise ValueError\n",
      "  stock_df['Best_Return_Window'] = stock_df[['1_Day_Return', '5_Day_Return', '10_Day_Return','20_Day_Return', '50_Day_Return', '200_Day_Return']].idxmax(axis=1)\n"
     ]
    },
    {
     "name": "stdout",
     "output_type": "stream",
     "text": [
      "Training model for JPM...\n",
      "Saving model for JPM...\n",
      "Loading data for UNH ...\n",
      "Adding columns for UNH...\n"
     ]
    },
    {
     "name": "stderr",
     "output_type": "stream",
     "text": [
      "/Users/eduardobenjamin/Desktop/Repos/MachineLearningProjects/Stock-Market-Analysis+Model/SimulateDay.py:88: FutureWarning: The behavior of DataFrame.idxmax with all-NA values, or any-NA and skipna=False, is deprecated. In a future version this will raise ValueError\n",
      "  stock_df['Best_Return_Window'] = stock_df[['1_Day_Return', '5_Day_Return', '10_Day_Return','20_Day_Return', '50_Day_Return', '200_Day_Return']].idxmax(axis=1)\n"
     ]
    },
    {
     "name": "stdout",
     "output_type": "stream",
     "text": [
      "Training model for UNH...\n",
      "Saving model for UNH...\n",
      "Loading data for V ...\n",
      "Adding columns for V...\n"
     ]
    },
    {
     "name": "stderr",
     "output_type": "stream",
     "text": [
      "/Users/eduardobenjamin/Desktop/Repos/MachineLearningProjects/Stock-Market-Analysis+Model/SimulateDay.py:88: FutureWarning: The behavior of DataFrame.idxmax with all-NA values, or any-NA and skipna=False, is deprecated. In a future version this will raise ValueError\n",
      "  stock_df['Best_Return_Window'] = stock_df[['1_Day_Return', '5_Day_Return', '10_Day_Return','20_Day_Return', '50_Day_Return', '200_Day_Return']].idxmax(axis=1)\n"
     ]
    },
    {
     "name": "stdout",
     "output_type": "stream",
     "text": [
      "Training model for V...\n",
      "Saving model for V...\n",
      "Loading data for XOM ...\n",
      "Adding columns for XOM...\n"
     ]
    },
    {
     "name": "stderr",
     "output_type": "stream",
     "text": [
      "/Users/eduardobenjamin/Desktop/Repos/MachineLearningProjects/Stock-Market-Analysis+Model/SimulateDay.py:88: FutureWarning: The behavior of DataFrame.idxmax with all-NA values, or any-NA and skipna=False, is deprecated. In a future version this will raise ValueError\n",
      "  stock_df['Best_Return_Window'] = stock_df[['1_Day_Return', '5_Day_Return', '10_Day_Return','20_Day_Return', '50_Day_Return', '200_Day_Return']].idxmax(axis=1)\n"
     ]
    },
    {
     "name": "stdout",
     "output_type": "stream",
     "text": [
      "Training model for XOM...\n",
      "Saving model for XOM...\n",
      "Loading data for ORCL ...\n",
      "Adding columns for ORCL...\n"
     ]
    },
    {
     "name": "stderr",
     "output_type": "stream",
     "text": [
      "/Users/eduardobenjamin/Desktop/Repos/MachineLearningProjects/Stock-Market-Analysis+Model/SimulateDay.py:88: FutureWarning: The behavior of DataFrame.idxmax with all-NA values, or any-NA and skipna=False, is deprecated. In a future version this will raise ValueError\n",
      "  stock_df['Best_Return_Window'] = stock_df[['1_Day_Return', '5_Day_Return', '10_Day_Return','20_Day_Return', '50_Day_Return', '200_Day_Return']].idxmax(axis=1)\n"
     ]
    },
    {
     "name": "stdout",
     "output_type": "stream",
     "text": [
      "Training model for ORCL...\n",
      "Saving model for ORCL...\n",
      "Loading data for MA ...\n",
      "Adding columns for MA...\n"
     ]
    },
    {
     "name": "stderr",
     "output_type": "stream",
     "text": [
      "/Users/eduardobenjamin/Desktop/Repos/MachineLearningProjects/Stock-Market-Analysis+Model/SimulateDay.py:88: FutureWarning: The behavior of DataFrame.idxmax with all-NA values, or any-NA and skipna=False, is deprecated. In a future version this will raise ValueError\n",
      "  stock_df['Best_Return_Window'] = stock_df[['1_Day_Return', '5_Day_Return', '10_Day_Return','20_Day_Return', '50_Day_Return', '200_Day_Return']].idxmax(axis=1)\n"
     ]
    },
    {
     "name": "stdout",
     "output_type": "stream",
     "text": [
      "Training model for MA...\n",
      "Saving model for MA...\n",
      "Loading data for PG ...\n",
      "Adding columns for PG...\n"
     ]
    },
    {
     "name": "stderr",
     "output_type": "stream",
     "text": [
      "/Users/eduardobenjamin/Desktop/Repos/MachineLearningProjects/Stock-Market-Analysis+Model/SimulateDay.py:88: FutureWarning: The behavior of DataFrame.idxmax with all-NA values, or any-NA and skipna=False, is deprecated. In a future version this will raise ValueError\n",
      "  stock_df['Best_Return_Window'] = stock_df[['1_Day_Return', '5_Day_Return', '10_Day_Return','20_Day_Return', '50_Day_Return', '200_Day_Return']].idxmax(axis=1)\n"
     ]
    },
    {
     "name": "stdout",
     "output_type": "stream",
     "text": [
      "Training model for PG...\n",
      "Saving model for PG...\n",
      "Loading data for COST ...\n",
      "Adding columns for COST...\n"
     ]
    },
    {
     "name": "stderr",
     "output_type": "stream",
     "text": [
      "/Users/eduardobenjamin/Desktop/Repos/MachineLearningProjects/Stock-Market-Analysis+Model/SimulateDay.py:88: FutureWarning: The behavior of DataFrame.idxmax with all-NA values, or any-NA and skipna=False, is deprecated. In a future version this will raise ValueError\n",
      "  stock_df['Best_Return_Window'] = stock_df[['1_Day_Return', '5_Day_Return', '10_Day_Return','20_Day_Return', '50_Day_Return', '200_Day_Return']].idxmax(axis=1)\n"
     ]
    },
    {
     "name": "stdout",
     "output_type": "stream",
     "text": [
      "Training model for COST...\n",
      "Saving model for COST...\n",
      "Loading data for HD ...\n",
      "Adding columns for HD...\n"
     ]
    },
    {
     "name": "stderr",
     "output_type": "stream",
     "text": [
      "/Users/eduardobenjamin/Desktop/Repos/MachineLearningProjects/Stock-Market-Analysis+Model/SimulateDay.py:88: FutureWarning: The behavior of DataFrame.idxmax with all-NA values, or any-NA and skipna=False, is deprecated. In a future version this will raise ValueError\n",
      "  stock_df['Best_Return_Window'] = stock_df[['1_Day_Return', '5_Day_Return', '10_Day_Return','20_Day_Return', '50_Day_Return', '200_Day_Return']].idxmax(axis=1)\n"
     ]
    },
    {
     "name": "stdout",
     "output_type": "stream",
     "text": [
      "Training model for HD...\n",
      "Saving model for HD...\n",
      "Loading data for JNJ ...\n",
      "Adding columns for JNJ...\n"
     ]
    },
    {
     "name": "stderr",
     "output_type": "stream",
     "text": [
      "/Users/eduardobenjamin/Desktop/Repos/MachineLearningProjects/Stock-Market-Analysis+Model/SimulateDay.py:88: FutureWarning: The behavior of DataFrame.idxmax with all-NA values, or any-NA and skipna=False, is deprecated. In a future version this will raise ValueError\n",
      "  stock_df['Best_Return_Window'] = stock_df[['1_Day_Return', '5_Day_Return', '10_Day_Return','20_Day_Return', '50_Day_Return', '200_Day_Return']].idxmax(axis=1)\n"
     ]
    },
    {
     "name": "stdout",
     "output_type": "stream",
     "text": [
      "Training model for JNJ...\n",
      "Saving model for JNJ...\n",
      "Loading data for ABBV ...\n",
      "Adding columns for ABBV...\n"
     ]
    },
    {
     "name": "stderr",
     "output_type": "stream",
     "text": [
      "/Users/eduardobenjamin/Desktop/Repos/MachineLearningProjects/Stock-Market-Analysis+Model/SimulateDay.py:88: FutureWarning: The behavior of DataFrame.idxmax with all-NA values, or any-NA and skipna=False, is deprecated. In a future version this will raise ValueError\n",
      "  stock_df['Best_Return_Window'] = stock_df[['1_Day_Return', '5_Day_Return', '10_Day_Return','20_Day_Return', '50_Day_Return', '200_Day_Return']].idxmax(axis=1)\n"
     ]
    },
    {
     "name": "stdout",
     "output_type": "stream",
     "text": [
      "Training model for ABBV...\n",
      "Saving model for ABBV...\n",
      "Loading data for NFLX ...\n",
      "Adding columns for NFLX...\n"
     ]
    },
    {
     "name": "stderr",
     "output_type": "stream",
     "text": [
      "/Users/eduardobenjamin/Desktop/Repos/MachineLearningProjects/Stock-Market-Analysis+Model/SimulateDay.py:88: FutureWarning: The behavior of DataFrame.idxmax with all-NA values, or any-NA and skipna=False, is deprecated. In a future version this will raise ValueError\n",
      "  stock_df['Best_Return_Window'] = stock_df[['1_Day_Return', '5_Day_Return', '10_Day_Return','20_Day_Return', '50_Day_Return', '200_Day_Return']].idxmax(axis=1)\n"
     ]
    },
    {
     "name": "stdout",
     "output_type": "stream",
     "text": [
      "Training model for NFLX...\n",
      "Saving model for NFLX...\n",
      "Loading data for KO ...\n",
      "Adding columns for KO...\n"
     ]
    },
    {
     "name": "stderr",
     "output_type": "stream",
     "text": [
      "/Users/eduardobenjamin/Desktop/Repos/MachineLearningProjects/Stock-Market-Analysis+Model/SimulateDay.py:88: FutureWarning: The behavior of DataFrame.idxmax with all-NA values, or any-NA and skipna=False, is deprecated. In a future version this will raise ValueError\n",
      "  stock_df['Best_Return_Window'] = stock_df[['1_Day_Return', '5_Day_Return', '10_Day_Return','20_Day_Return', '50_Day_Return', '200_Day_Return']].idxmax(axis=1)\n"
     ]
    },
    {
     "name": "stdout",
     "output_type": "stream",
     "text": [
      "Training model for KO...\n",
      "Saving model for KO...\n",
      "Loading data for BAC ...\n",
      "Adding columns for BAC...\n"
     ]
    },
    {
     "name": "stderr",
     "output_type": "stream",
     "text": [
      "/Users/eduardobenjamin/Desktop/Repos/MachineLearningProjects/Stock-Market-Analysis+Model/SimulateDay.py:88: FutureWarning: The behavior of DataFrame.idxmax with all-NA values, or any-NA and skipna=False, is deprecated. In a future version this will raise ValueError\n",
      "  stock_df['Best_Return_Window'] = stock_df[['1_Day_Return', '5_Day_Return', '10_Day_Return','20_Day_Return', '50_Day_Return', '200_Day_Return']].idxmax(axis=1)\n"
     ]
    },
    {
     "name": "stdout",
     "output_type": "stream",
     "text": [
      "Training model for BAC...\n",
      "Saving model for BAC...\n",
      "Loading data for MRK ...\n",
      "Adding columns for MRK...\n"
     ]
    },
    {
     "name": "stderr",
     "output_type": "stream",
     "text": [
      "/Users/eduardobenjamin/Desktop/Repos/MachineLearningProjects/Stock-Market-Analysis+Model/SimulateDay.py:88: FutureWarning: The behavior of DataFrame.idxmax with all-NA values, or any-NA and skipna=False, is deprecated. In a future version this will raise ValueError\n",
      "  stock_df['Best_Return_Window'] = stock_df[['1_Day_Return', '5_Day_Return', '10_Day_Return','20_Day_Return', '50_Day_Return', '200_Day_Return']].idxmax(axis=1)\n"
     ]
    },
    {
     "name": "stdout",
     "output_type": "stream",
     "text": [
      "Training model for MRK...\n",
      "Saving model for MRK...\n",
      "Loading data for CVX ...\n",
      "Adding columns for CVX...\n"
     ]
    },
    {
     "name": "stderr",
     "output_type": "stream",
     "text": [
      "/Users/eduardobenjamin/Desktop/Repos/MachineLearningProjects/Stock-Market-Analysis+Model/SimulateDay.py:88: FutureWarning: The behavior of DataFrame.idxmax with all-NA values, or any-NA and skipna=False, is deprecated. In a future version this will raise ValueError\n",
      "  stock_df['Best_Return_Window'] = stock_df[['1_Day_Return', '5_Day_Return', '10_Day_Return','20_Day_Return', '50_Day_Return', '200_Day_Return']].idxmax(axis=1)\n"
     ]
    },
    {
     "name": "stdout",
     "output_type": "stream",
     "text": [
      "Training model for CVX...\n",
      "Saving model for CVX...\n",
      "Loading data for CRM ...\n",
      "Adding columns for CRM...\n"
     ]
    },
    {
     "name": "stderr",
     "output_type": "stream",
     "text": [
      "/Users/eduardobenjamin/Desktop/Repos/MachineLearningProjects/Stock-Market-Analysis+Model/SimulateDay.py:88: FutureWarning: The behavior of DataFrame.idxmax with all-NA values, or any-NA and skipna=False, is deprecated. In a future version this will raise ValueError\n",
      "  stock_df['Best_Return_Window'] = stock_df[['1_Day_Return', '5_Day_Return', '10_Day_Return','20_Day_Return', '50_Day_Return', '200_Day_Return']].idxmax(axis=1)\n"
     ]
    },
    {
     "name": "stdout",
     "output_type": "stream",
     "text": [
      "Training model for CRM...\n",
      "Saving model for CRM...\n",
      "Loading data for AMD ...\n",
      "Adding columns for AMD...\n"
     ]
    },
    {
     "name": "stderr",
     "output_type": "stream",
     "text": [
      "/Users/eduardobenjamin/Desktop/Repos/MachineLearningProjects/Stock-Market-Analysis+Model/SimulateDay.py:88: FutureWarning: The behavior of DataFrame.idxmax with all-NA values, or any-NA and skipna=False, is deprecated. In a future version this will raise ValueError\n",
      "  stock_df['Best_Return_Window'] = stock_df[['1_Day_Return', '5_Day_Return', '10_Day_Return','20_Day_Return', '50_Day_Return', '200_Day_Return']].idxmax(axis=1)\n"
     ]
    },
    {
     "name": "stdout",
     "output_type": "stream",
     "text": [
      "Training model for AMD...\n",
      "Saving model for AMD...\n",
      "Loading data for TMUS ...\n",
      "Adding columns for TMUS...\n"
     ]
    },
    {
     "name": "stderr",
     "output_type": "stream",
     "text": [
      "/Users/eduardobenjamin/Desktop/Repos/MachineLearningProjects/Stock-Market-Analysis+Model/SimulateDay.py:88: FutureWarning: The behavior of DataFrame.idxmax with all-NA values, or any-NA and skipna=False, is deprecated. In a future version this will raise ValueError\n",
      "  stock_df['Best_Return_Window'] = stock_df[['1_Day_Return', '5_Day_Return', '10_Day_Return','20_Day_Return', '50_Day_Return', '200_Day_Return']].idxmax(axis=1)\n"
     ]
    },
    {
     "name": "stdout",
     "output_type": "stream",
     "text": [
      "Training model for TMUS...\n",
      "Saving model for TMUS...\n",
      "Loading data for TMO ...\n",
      "Adding columns for TMO...\n"
     ]
    },
    {
     "name": "stderr",
     "output_type": "stream",
     "text": [
      "/Users/eduardobenjamin/Desktop/Repos/MachineLearningProjects/Stock-Market-Analysis+Model/SimulateDay.py:88: FutureWarning: The behavior of DataFrame.idxmax with all-NA values, or any-NA and skipna=False, is deprecated. In a future version this will raise ValueError\n",
      "  stock_df['Best_Return_Window'] = stock_df[['1_Day_Return', '5_Day_Return', '10_Day_Return','20_Day_Return', '50_Day_Return', '200_Day_Return']].idxmax(axis=1)\n"
     ]
    },
    {
     "name": "stdout",
     "output_type": "stream",
     "text": [
      "Training model for TMO...\n",
      "Saving model for TMO...\n",
      "Loading data for PEP ...\n",
      "Adding columns for PEP...\n"
     ]
    },
    {
     "name": "stderr",
     "output_type": "stream",
     "text": [
      "/Users/eduardobenjamin/Desktop/Repos/MachineLearningProjects/Stock-Market-Analysis+Model/SimulateDay.py:88: FutureWarning: The behavior of DataFrame.idxmax with all-NA values, or any-NA and skipna=False, is deprecated. In a future version this will raise ValueError\n",
      "  stock_df['Best_Return_Window'] = stock_df[['1_Day_Return', '5_Day_Return', '10_Day_Return','20_Day_Return', '50_Day_Return', '200_Day_Return']].idxmax(axis=1)\n"
     ]
    },
    {
     "name": "stdout",
     "output_type": "stream",
     "text": [
      "Training model for PEP...\n",
      "Saving model for PEP...\n",
      "Loading data for ADBE ...\n",
      "Adding columns for ADBE...\n"
     ]
    },
    {
     "name": "stderr",
     "output_type": "stream",
     "text": [
      "/Users/eduardobenjamin/Desktop/Repos/MachineLearningProjects/Stock-Market-Analysis+Model/SimulateDay.py:88: FutureWarning: The behavior of DataFrame.idxmax with all-NA values, or any-NA and skipna=False, is deprecated. In a future version this will raise ValueError\n",
      "  stock_df['Best_Return_Window'] = stock_df[['1_Day_Return', '5_Day_Return', '10_Day_Return','20_Day_Return', '50_Day_Return', '200_Day_Return']].idxmax(axis=1)\n"
     ]
    },
    {
     "name": "stdout",
     "output_type": "stream",
     "text": [
      "Training model for ADBE...\n",
      "Saving model for ADBE...\n",
      "Loading data for LIN ...\n",
      "Adding columns for LIN...\n"
     ]
    },
    {
     "name": "stderr",
     "output_type": "stream",
     "text": [
      "/Users/eduardobenjamin/Desktop/Repos/MachineLearningProjects/Stock-Market-Analysis+Model/SimulateDay.py:88: FutureWarning: The behavior of DataFrame.idxmax with all-NA values, or any-NA and skipna=False, is deprecated. In a future version this will raise ValueError\n",
      "  stock_df['Best_Return_Window'] = stock_df[['1_Day_Return', '5_Day_Return', '10_Day_Return','20_Day_Return', '50_Day_Return', '200_Day_Return']].idxmax(axis=1)\n"
     ]
    },
    {
     "name": "stdout",
     "output_type": "stream",
     "text": [
      "Training model for LIN...\n",
      "Saving model for LIN...\n",
      "Loading data for MCD ...\n",
      "Adding columns for MCD...\n"
     ]
    },
    {
     "name": "stderr",
     "output_type": "stream",
     "text": [
      "/Users/eduardobenjamin/Desktop/Repos/MachineLearningProjects/Stock-Market-Analysis+Model/SimulateDay.py:88: FutureWarning: The behavior of DataFrame.idxmax with all-NA values, or any-NA and skipna=False, is deprecated. In a future version this will raise ValueError\n",
      "  stock_df['Best_Return_Window'] = stock_df[['1_Day_Return', '5_Day_Return', '10_Day_Return','20_Day_Return', '50_Day_Return', '200_Day_Return']].idxmax(axis=1)\n"
     ]
    },
    {
     "name": "stdout",
     "output_type": "stream",
     "text": [
      "Training model for MCD...\n",
      "Saving model for MCD...\n",
      "Loading data for ACN ...\n",
      "Adding columns for ACN...\n"
     ]
    },
    {
     "name": "stderr",
     "output_type": "stream",
     "text": [
      "/Users/eduardobenjamin/Desktop/Repos/MachineLearningProjects/Stock-Market-Analysis+Model/SimulateDay.py:88: FutureWarning: The behavior of DataFrame.idxmax with all-NA values, or any-NA and skipna=False, is deprecated. In a future version this will raise ValueError\n",
      "  stock_df['Best_Return_Window'] = stock_df[['1_Day_Return', '5_Day_Return', '10_Day_Return','20_Day_Return', '50_Day_Return', '200_Day_Return']].idxmax(axis=1)\n"
     ]
    },
    {
     "name": "stdout",
     "output_type": "stream",
     "text": [
      "Training model for ACN...\n",
      "Saving model for ACN...\n",
      "Loading data for CSCO ...\n",
      "Adding columns for CSCO...\n"
     ]
    },
    {
     "name": "stderr",
     "output_type": "stream",
     "text": [
      "/Users/eduardobenjamin/Desktop/Repos/MachineLearningProjects/Stock-Market-Analysis+Model/SimulateDay.py:88: FutureWarning: The behavior of DataFrame.idxmax with all-NA values, or any-NA and skipna=False, is deprecated. In a future version this will raise ValueError\n",
      "  stock_df['Best_Return_Window'] = stock_df[['1_Day_Return', '5_Day_Return', '10_Day_Return','20_Day_Return', '50_Day_Return', '200_Day_Return']].idxmax(axis=1)\n"
     ]
    },
    {
     "name": "stdout",
     "output_type": "stream",
     "text": [
      "Training model for CSCO...\n",
      "Saving model for CSCO...\n",
      "Loading data for GE ...\n",
      "Adding columns for GE...\n"
     ]
    },
    {
     "name": "stderr",
     "output_type": "stream",
     "text": [
      "/Users/eduardobenjamin/Desktop/Repos/MachineLearningProjects/Stock-Market-Analysis+Model/SimulateDay.py:88: FutureWarning: The behavior of DataFrame.idxmax with all-NA values, or any-NA and skipna=False, is deprecated. In a future version this will raise ValueError\n",
      "  stock_df['Best_Return_Window'] = stock_df[['1_Day_Return', '5_Day_Return', '10_Day_Return','20_Day_Return', '50_Day_Return', '200_Day_Return']].idxmax(axis=1)\n"
     ]
    },
    {
     "name": "stdout",
     "output_type": "stream",
     "text": [
      "Training model for GE...\n",
      "Saving model for GE...\n",
      "Loading data for IBM ...\n",
      "Adding columns for IBM...\n"
     ]
    },
    {
     "name": "stderr",
     "output_type": "stream",
     "text": [
      "/Users/eduardobenjamin/Desktop/Repos/MachineLearningProjects/Stock-Market-Analysis+Model/SimulateDay.py:88: FutureWarning: The behavior of DataFrame.idxmax with all-NA values, or any-NA and skipna=False, is deprecated. In a future version this will raise ValueError\n",
      "  stock_df['Best_Return_Window'] = stock_df[['1_Day_Return', '5_Day_Return', '10_Day_Return','20_Day_Return', '50_Day_Return', '200_Day_Return']].idxmax(axis=1)\n"
     ]
    },
    {
     "name": "stdout",
     "output_type": "stream",
     "text": [
      "Training model for IBM...\n",
      "Saving model for IBM...\n",
      "Loading data for DHR ...\n",
      "Adding columns for DHR...\n"
     ]
    },
    {
     "name": "stderr",
     "output_type": "stream",
     "text": [
      "/Users/eduardobenjamin/Desktop/Repos/MachineLearningProjects/Stock-Market-Analysis+Model/SimulateDay.py:88: FutureWarning: The behavior of DataFrame.idxmax with all-NA values, or any-NA and skipna=False, is deprecated. In a future version this will raise ValueError\n",
      "  stock_df['Best_Return_Window'] = stock_df[['1_Day_Return', '5_Day_Return', '10_Day_Return','20_Day_Return', '50_Day_Return', '200_Day_Return']].idxmax(axis=1)\n"
     ]
    },
    {
     "name": "stdout",
     "output_type": "stream",
     "text": [
      "Training model for DHR...\n",
      "Saving model for DHR...\n",
      "Loading data for ABT ...\n",
      "Adding columns for ABT...\n"
     ]
    },
    {
     "name": "stderr",
     "output_type": "stream",
     "text": [
      "/Users/eduardobenjamin/Desktop/Repos/MachineLearningProjects/Stock-Market-Analysis+Model/SimulateDay.py:88: FutureWarning: The behavior of DataFrame.idxmax with all-NA values, or any-NA and skipna=False, is deprecated. In a future version this will raise ValueError\n",
      "  stock_df['Best_Return_Window'] = stock_df[['1_Day_Return', '5_Day_Return', '10_Day_Return','20_Day_Return', '50_Day_Return', '200_Day_Return']].idxmax(axis=1)\n"
     ]
    },
    {
     "name": "stdout",
     "output_type": "stream",
     "text": [
      "Training model for ABT...\n",
      "Saving model for ABT...\n",
      "Loading data for BX ...\n",
      "Adding columns for BX...\n"
     ]
    },
    {
     "name": "stderr",
     "output_type": "stream",
     "text": [
      "/Users/eduardobenjamin/Desktop/Repos/MachineLearningProjects/Stock-Market-Analysis+Model/SimulateDay.py:88: FutureWarning: The behavior of DataFrame.idxmax with all-NA values, or any-NA and skipna=False, is deprecated. In a future version this will raise ValueError\n",
      "  stock_df['Best_Return_Window'] = stock_df[['1_Day_Return', '5_Day_Return', '10_Day_Return','20_Day_Return', '50_Day_Return', '200_Day_Return']].idxmax(axis=1)\n"
     ]
    },
    {
     "name": "stdout",
     "output_type": "stream",
     "text": [
      "Training model for BX...\n",
      "Saving model for BX...\n",
      "Loading data for NOW ...\n",
      "Adding columns for NOW...\n"
     ]
    },
    {
     "name": "stderr",
     "output_type": "stream",
     "text": [
      "/Users/eduardobenjamin/Desktop/Repos/MachineLearningProjects/Stock-Market-Analysis+Model/SimulateDay.py:88: FutureWarning: The behavior of DataFrame.idxmax with all-NA values, or any-NA and skipna=False, is deprecated. In a future version this will raise ValueError\n",
      "  stock_df['Best_Return_Window'] = stock_df[['1_Day_Return', '5_Day_Return', '10_Day_Return','20_Day_Return', '50_Day_Return', '200_Day_Return']].idxmax(axis=1)\n"
     ]
    },
    {
     "name": "stdout",
     "output_type": "stream",
     "text": [
      "Training model for NOW...\n",
      "Saving model for NOW...\n",
      "Loading data for AXP ...\n",
      "Adding columns for AXP...\n"
     ]
    },
    {
     "name": "stderr",
     "output_type": "stream",
     "text": [
      "/Users/eduardobenjamin/Desktop/Repos/MachineLearningProjects/Stock-Market-Analysis+Model/SimulateDay.py:88: FutureWarning: The behavior of DataFrame.idxmax with all-NA values, or any-NA and skipna=False, is deprecated. In a future version this will raise ValueError\n",
      "  stock_df['Best_Return_Window'] = stock_df[['1_Day_Return', '5_Day_Return', '10_Day_Return','20_Day_Return', '50_Day_Return', '200_Day_Return']].idxmax(axis=1)\n"
     ]
    },
    {
     "name": "stdout",
     "output_type": "stream",
     "text": [
      "Training model for AXP...\n",
      "Saving model for AXP...\n",
      "Loading data for PM ...\n",
      "Adding columns for PM...\n"
     ]
    },
    {
     "name": "stderr",
     "output_type": "stream",
     "text": [
      "/Users/eduardobenjamin/Desktop/Repos/MachineLearningProjects/Stock-Market-Analysis+Model/SimulateDay.py:88: FutureWarning: The behavior of DataFrame.idxmax with all-NA values, or any-NA and skipna=False, is deprecated. In a future version this will raise ValueError\n",
      "  stock_df['Best_Return_Window'] = stock_df[['1_Day_Return', '5_Day_Return', '10_Day_Return','20_Day_Return', '50_Day_Return', '200_Day_Return']].idxmax(axis=1)\n"
     ]
    },
    {
     "name": "stdout",
     "output_type": "stream",
     "text": [
      "Training model for PM...\n",
      "Saving model for PM...\n",
      "Loading data for VZ ...\n",
      "Adding columns for VZ...\n"
     ]
    },
    {
     "name": "stderr",
     "output_type": "stream",
     "text": [
      "/Users/eduardobenjamin/Desktop/Repos/MachineLearningProjects/Stock-Market-Analysis+Model/SimulateDay.py:88: FutureWarning: The behavior of DataFrame.idxmax with all-NA values, or any-NA and skipna=False, is deprecated. In a future version this will raise ValueError\n",
      "  stock_df['Best_Return_Window'] = stock_df[['1_Day_Return', '5_Day_Return', '10_Day_Return','20_Day_Return', '50_Day_Return', '200_Day_Return']].idxmax(axis=1)\n"
     ]
    },
    {
     "name": "stdout",
     "output_type": "stream",
     "text": [
      "Training model for VZ...\n",
      "Saving model for VZ...\n",
      "Loading data for CAT ...\n",
      "Adding columns for CAT...\n"
     ]
    },
    {
     "name": "stderr",
     "output_type": "stream",
     "text": [
      "/Users/eduardobenjamin/Desktop/Repos/MachineLearningProjects/Stock-Market-Analysis+Model/SimulateDay.py:88: FutureWarning: The behavior of DataFrame.idxmax with all-NA values, or any-NA and skipna=False, is deprecated. In a future version this will raise ValueError\n",
      "  stock_df['Best_Return_Window'] = stock_df[['1_Day_Return', '5_Day_Return', '10_Day_Return','20_Day_Return', '50_Day_Return', '200_Day_Return']].idxmax(axis=1)\n"
     ]
    },
    {
     "name": "stdout",
     "output_type": "stream",
     "text": [
      "Training model for CAT...\n",
      "Saving model for CAT...\n",
      "Loading data for TXN ...\n",
      "Adding columns for TXN...\n"
     ]
    },
    {
     "name": "stderr",
     "output_type": "stream",
     "text": [
      "/Users/eduardobenjamin/Desktop/Repos/MachineLearningProjects/Stock-Market-Analysis+Model/SimulateDay.py:88: FutureWarning: The behavior of DataFrame.idxmax with all-NA values, or any-NA and skipna=False, is deprecated. In a future version this will raise ValueError\n",
      "  stock_df['Best_Return_Window'] = stock_df[['1_Day_Return', '5_Day_Return', '10_Day_Return','20_Day_Return', '50_Day_Return', '200_Day_Return']].idxmax(axis=1)\n"
     ]
    },
    {
     "name": "stdout",
     "output_type": "stream",
     "text": [
      "Training model for TXN...\n",
      "Saving model for TXN...\n",
      "Loading data for QCOM ...\n",
      "Adding columns for QCOM...\n"
     ]
    },
    {
     "name": "stderr",
     "output_type": "stream",
     "text": [
      "/Users/eduardobenjamin/Desktop/Repos/MachineLearningProjects/Stock-Market-Analysis+Model/SimulateDay.py:88: FutureWarning: The behavior of DataFrame.idxmax with all-NA values, or any-NA and skipna=False, is deprecated. In a future version this will raise ValueError\n",
      "  stock_df['Best_Return_Window'] = stock_df[['1_Day_Return', '5_Day_Return', '10_Day_Return','20_Day_Return', '50_Day_Return', '200_Day_Return']].idxmax(axis=1)\n"
     ]
    },
    {
     "name": "stdout",
     "output_type": "stream",
     "text": [
      "Training model for QCOM...\n",
      "Saving model for QCOM...\n",
      "Loading data for WFC ...\n",
      "Adding columns for WFC...\n"
     ]
    },
    {
     "name": "stderr",
     "output_type": "stream",
     "text": [
      "/Users/eduardobenjamin/Desktop/Repos/MachineLearningProjects/Stock-Market-Analysis+Model/SimulateDay.py:88: FutureWarning: The behavior of DataFrame.idxmax with all-NA values, or any-NA and skipna=False, is deprecated. In a future version this will raise ValueError\n",
      "  stock_df['Best_Return_Window'] = stock_df[['1_Day_Return', '5_Day_Return', '10_Day_Return','20_Day_Return', '50_Day_Return', '200_Day_Return']].idxmax(axis=1)\n"
     ]
    }
   ],
   "source": [
    "import joblib\n",
    "def train_models():\n",
    "    features = ['Volume', 'MA_10', 'MA_20', 'MA_50', 'MA_200', 'std_10',\n",
    "                'std_20', 'std_50', 'std_200', 'upper_band_10', 'lower_band_10', \n",
    "                'upper_band_20', 'lower_band_20', 'upper_band_50', 'lower_band_50', \n",
    "                'upper_band_200', 'lower_band_200', 'Golden_Cross_Short', 'Golden_Cross_Medium', \n",
    "                'Golden_Cross_Long', 'Death_Cross_Short', 'Death_Cross_Medium', 'Death_Cross_Long', \n",
    "                'ROC', 'AVG_Volume_10', 'AVG_Volume_20', 'AVG_Volume_50', 'AVG_Volume_200', 'Doji', \n",
    "                'Bullish_Engulfing', 'Bearish_Engulfing', 'MACD', 'Signal', 'MACD_Hist', 'TR', 'ATR', \n",
    "                'RSI_10_Day', '10_Day_ROC', 'Resistance_10_Day', 'Support_10_Day', 'Resistance_20_Day', \n",
    "                'Support_20_Day', 'Resistance_50_Day', 'Support_50_Day', 'Volume_MA_10', 'Volume_MA_20', \n",
    "                'Volume_MA_50', 'OBV', 'Z-score']\n",
    "    for symbol in company_df['Symbol'].unique():\n",
    "        print('Loading data for', symbol,'...')\n",
    "        stock_df = pd.read_csv('data/sp500_stocks.csv')\n",
    "        stock_df = stock_df[stock_df['Symbol'] == symbol]\n",
    "        print(f'Adding columns for {symbol}...')\n",
    "        stock_df = add_columns(stock_df)\n",
    "        preprocessed = scale_data(stock_df)\n",
    "        X = preprocessed[features]\n",
    "        y = stock_df['Action']\n",
    "        X_train, X_test, y_train, y_test = train_test_split(X, y, test_size=0.2, random_state=42)\n",
    "        print(f'Training model for {symbol}...')\n",
    "        model = xgb.XGBClassifier(n_estimators=100, random_state=42)\n",
    "        model.fit(X_train, y_train)\n",
    "        print(f'Saving model for {symbol}...')\n",
    "        joblib.dump(model, f'models/{symbol}_model.pkl')\n",
    "\n",
    "train_models()"
   ]
  },
  {
   "cell_type": "code",
   "execution_count": 67,
   "metadata": {},
   "outputs": [
    {
     "name": "stderr",
     "output_type": "stream",
     "text": [
      "/Users/eduardobenjamin/anaconda3/lib/python3.11/site-packages/tqdm/auto.py:21: TqdmWarning: IProgress not found. Please update jupyter and ipywidgets. See https://ipywidgets.readthedocs.io/en/stable/user_install.html\n",
      "  from .autonotebook import tqdm as notebook_tqdm\n",
      "100%|██████████| 100/100 [01:07<00:00,  1.48it/s]\n"
     ]
    },
    {
     "data": {
      "image/png": "[encoded data removed]",
      "text/plain": [
       "<Figure size 800x950 with 2 Axes>"
      ]
     },
     "metadata": {},
     "output_type": "display_data"
    }
   ],
   "source": [
    "import shap\n",
    "\n",
    "def model_predict(data):\n",
    "    return model.predict(data)\n",
    "\n",
    "# Use a small sample of the data to initialize the KernelExplainer\n",
    "background = X.sample(n=100, random_state=42)\n",
    "\n",
    "# Initialize the SHAP KernelExplainer with the custom prediction function\n",
    "explainer = shap.KernelExplainer(model_predict, background)\n",
    "\n",
    "# Calculate SHAP values for a sample of the data\n",
    "sample_data = X.sample(n=100, random_state=42)\n",
    "shap_values = explainer.shap_values(sample_data)\n",
    "\n",
    "# Plot the SHAP summary plot\n",
    "%matplotlib inline\n",
    "shap.summary_plot(shap_values, sample_data)"
   ]
  },
  {
   "cell_type": "code",
   "execution_count": 59,
   "metadata": {},
   "outputs": [
    {
     "data": {
      "text/html": [
       "<div>\n",
       "<style scoped>\n",
       "    .dataframe tbody tr th:only-of-type {\n",
       "        vertical-align: middle;\n",
       "    }\n",
       "\n",
       "    .dataframe tbody tr th {\n",
       "        vertical-align: top;\n",
       "    }\n",
       "\n",
       "    .dataframe thead th {\n",
       "        text-align: right;\n",
       "    }\n",
       "</style>\n",
       "<table border=\"1\" class=\"dataframe\">\n",
       "  <thead>\n",
       "    <tr style=\"text-align: right;\">\n",
       "      <th></th>\n",
       "      <th>Date</th>\n",
       "      <th>Symbol</th>\n",
       "      <th>Adj Close</th>\n",
       "      <th>Close</th>\n",
       "      <th>High</th>\n",
       "      <th>Low</th>\n",
       "      <th>Open</th>\n",
       "      <th>Volume</th>\n",
       "    </tr>\n",
       "  </thead>\n",
       "  <tbody>\n",
       "    <tr>\n",
       "      <th>0</th>\n",
       "      <td>2010-01-04</td>\n",
       "      <td>MMM</td>\n",
       "      <td>44.016720</td>\n",
       "      <td>69.414719</td>\n",
       "      <td>69.774246</td>\n",
       "      <td>69.122070</td>\n",
       "      <td>69.473244</td>\n",
       "      <td>3640265.0</td>\n",
       "    </tr>\n",
       "    <tr>\n",
       "      <th>1</th>\n",
       "      <td>2010-01-05</td>\n",
       "      <td>MMM</td>\n",
       "      <td>43.741032</td>\n",
       "      <td>68.979935</td>\n",
       "      <td>69.590302</td>\n",
       "      <td>68.311035</td>\n",
       "      <td>69.230766</td>\n",
       "      <td>3405012.0</td>\n",
       "    </tr>\n",
       "    <tr>\n",
       "      <th>2</th>\n",
       "      <td>2010-01-06</td>\n",
       "      <td>MMM</td>\n",
       "      <td>44.361340</td>\n",
       "      <td>69.958191</td>\n",
       "      <td>70.735786</td>\n",
       "      <td>69.824417</td>\n",
       "      <td>70.133781</td>\n",
       "      <td>6301126.0</td>\n",
       "    </tr>\n",
       "    <tr>\n",
       "      <th>3</th>\n",
       "      <td>2010-01-07</td>\n",
       "      <td>MMM</td>\n",
       "      <td>44.393162</td>\n",
       "      <td>70.008362</td>\n",
       "      <td>70.033447</td>\n",
       "      <td>68.662209</td>\n",
       "      <td>69.665550</td>\n",
       "      <td>5346240.0</td>\n",
       "    </tr>\n",
       "    <tr>\n",
       "      <th>4</th>\n",
       "      <td>2010-01-08</td>\n",
       "      <td>MMM</td>\n",
       "      <td>44.705990</td>\n",
       "      <td>70.501671</td>\n",
       "      <td>70.501671</td>\n",
       "      <td>69.648827</td>\n",
       "      <td>69.974915</td>\n",
       "      <td>4073337.0</td>\n",
       "    </tr>\n",
       "    <tr>\n",
       "      <th>...</th>\n",
       "      <td>...</td>\n",
       "      <td>...</td>\n",
       "      <td>...</td>\n",
       "      <td>...</td>\n",
       "      <td>...</td>\n",
       "      <td>...</td>\n",
       "      <td>...</td>\n",
       "      <td>...</td>\n",
       "    </tr>\n",
       "    <tr>\n",
       "      <th>1868641</th>\n",
       "      <td>2024-10-02</td>\n",
       "      <td>ZTS</td>\n",
       "      <td>192.460007</td>\n",
       "      <td>192.460007</td>\n",
       "      <td>194.389999</td>\n",
       "      <td>191.259995</td>\n",
       "      <td>193.520004</td>\n",
       "      <td>1233300.0</td>\n",
       "    </tr>\n",
       "    <tr>\n",
       "      <th>1868642</th>\n",
       "      <td>2024-10-03</td>\n",
       "      <td>ZTS</td>\n",
       "      <td>190.990005</td>\n",
       "      <td>190.990005</td>\n",
       "      <td>192.330002</td>\n",
       "      <td>190.000000</td>\n",
       "      <td>191.889999</td>\n",
       "      <td>1325000.0</td>\n",
       "    </tr>\n",
       "    <tr>\n",
       "      <th>1868643</th>\n",
       "      <td>2024-10-04</td>\n",
       "      <td>ZTS</td>\n",
       "      <td>190.029999</td>\n",
       "      <td>190.029999</td>\n",
       "      <td>191.869995</td>\n",
       "      <td>189.000000</td>\n",
       "      <td>190.990005</td>\n",
       "      <td>1697700.0</td>\n",
       "    </tr>\n",
       "    <tr>\n",
       "      <th>1868644</th>\n",
       "      <td>2024-10-07</td>\n",
       "      <td>ZTS</td>\n",
       "      <td>187.279999</td>\n",
       "      <td>187.279999</td>\n",
       "      <td>189.904205</td>\n",
       "      <td>186.639999</td>\n",
       "      <td>190.080002</td>\n",
       "      <td>1846234.0</td>\n",
       "    </tr>\n",
       "    <tr>\n",
       "      <th>1868645</th>\n",
       "      <td>2024-10-08</td>\n",
       "      <td>INTC</td>\n",
       "      <td>0.000000</td>\n",
       "      <td>23.320000</td>\n",
       "      <td>23.420000</td>\n",
       "      <td>22.049999</td>\n",
       "      <td>22.200001</td>\n",
       "      <td>57343050.0</td>\n",
       "    </tr>\n",
       "  </tbody>\n",
       "</table>\n",
       "<p>1868646 rows × 8 columns</p>\n",
       "</div>"
      ],
      "text/plain": [
       "               Date Symbol   Adj Close       Close        High         Low  \\\n",
       "0        2010-01-04    MMM   44.016720   69.414719   69.774246   69.122070   \n",
       "1        2010-01-05    MMM   43.741032   68.979935   69.590302   68.311035   \n",
       "2        2010-01-06    MMM   44.361340   69.958191   70.735786   69.824417   \n",
       "3        2010-01-07    MMM   44.393162   70.008362   70.033447   68.662209   \n",
       "4        2010-01-08    MMM   44.705990   70.501671   70.501671   69.648827   \n",
       "...             ...    ...         ...         ...         ...         ...   \n",
       "1868641  2024-10-02    ZTS  192.460007  192.460007  194.389999  191.259995   \n",
       "1868642  2024-10-03    ZTS  190.990005  190.990005  192.330002  190.000000   \n",
       "1868643  2024-10-04    ZTS  190.029999  190.029999  191.869995  189.000000   \n",
       "1868644  2024-10-07    ZTS  187.279999  187.279999  189.904205  186.639999   \n",
       "1868645  2024-10-08   INTC    0.000000   23.320000   23.420000   22.049999   \n",
       "\n",
       "               Open      Volume  \n",
       "0         69.473244   3640265.0  \n",
       "1         69.230766   3405012.0  \n",
       "2         70.133781   6301126.0  \n",
       "3         69.665550   5346240.0  \n",
       "4         69.974915   4073337.0  \n",
       "...             ...         ...  \n",
       "1868641  193.520004   1233300.0  \n",
       "1868642  191.889999   1325000.0  \n",
       "1868643  190.990005   1697700.0  \n",
       "1868644  190.080002   1846234.0  \n",
       "1868645   22.200001  57343050.0  \n",
       "\n",
       "[1868646 rows x 8 columns]"
      ]
     },
     "execution_count": 59,
     "metadata": {},
     "output_type": "execute_result"
    }
   ],
   "source": [
    "def get_stock_data(symbol):\n",
    "    stock_df = pd.read_csv('data/sp500_stocks.csv')\n",
    "    stock = yf.Ticker(symbol)\n",
    "    data = stock.history(period='1d', interval='1d')  \n",
    "\n",
    "\n",
    "    if not data.empty:\n",
    "        latest_data = data.iloc[-1]\n",
    "        time = latest_data.name\n",
    "        open_price = latest_data['Open']\n",
    "        high = latest_data['High']\n",
    "        low = latest_data['Low']\n",
    "        close = latest_data['Close']\n",
    "        volume = latest_data['Volume']\n",
    "        new_row = pd.DataFrame({\n",
    "            'Symbol': [symbol],\n",
    "            'Date': [datetime.datetime.strftime(time, '%Y-%m-%d')],\n",
    "            'Open': [open_price],\n",
    "            'High': [high],\n",
    "            'Low': [low],\n",
    "            'Close': [close],\n",
    "            'Volume': [volume]\n",
    "        })\n",
    "        stock_df = pd.concat([stock_df, new_row], ignore_index=True).fillna(0)\n",
    "        return stock_df\n",
    "    \n",
    "stock = get_stock_data1('INTC')\n",
    "stock"
   ]
  },
  {
   "cell_type": "code",
   "execution_count": null,
   "metadata": {},
   "outputs": [],
   "source": []
  }
 ],
 "metadata": {
  "kernelspec": {
   "display_name": "base",
   "language": "python",
   "name": "python3"
  },
  "language_info": {
   "codemirror_mode": {
    "name": "ipython",
    "version": 3
   },
   "file_extension": ".py",
   "mimetype": "text/x-python",
   "name": "python",
   "nbconvert_exporter": "python",
   "pygments_lexer": "ipython3",
   "version": "3.11.5"
  }
 },
 "nbformat": 4,
 "nbformat_minor": 2
}
